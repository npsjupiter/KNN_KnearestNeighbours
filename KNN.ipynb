{
 "cells": [
  {
   "cell_type": "code",
   "execution_count": 1,
   "id": "9cdb94be",
   "metadata": {},
   "outputs": [],
   "source": [
    "import os\n",
    "import numpy as np\n",
    "import matplotlib.pyplot as plt\n",
    "import seaborn as sns\n",
    "import pandas as pd\n",
    "from sklearn import metrics\n",
    "from sklearn.neighbors import KNeighborsClassifier\n",
    "from sklearn.model_selection import train_test_split, GridSearchCV, RandomizedSearchCV"
   ]
  },
  {
   "cell_type": "code",
   "execution_count": 2,
   "id": "af83599f",
   "metadata": {},
   "outputs": [],
   "source": [
    "os.chdir(r\"D:\\Training\\CareerEra\\Batch-Masters\\KNN\\Mobile Price Range Prediction\\Dataset\")"
   ]
  },
  {
   "cell_type": "code",
   "execution_count": 3,
   "id": "a0714c5d",
   "metadata": {},
   "outputs": [
    {
     "data": {
      "text/plain": [
       "['CV_results.csv',\n",
       " 'knearest_neighbours_mobile_price.joblib',\n",
       " 'mobile_price.csv',\n",
       " 'New folder',\n",
       " 'NewMobile.xlsx']"
      ]
     },
     "execution_count": 3,
     "metadata": {},
     "output_type": "execute_result"
    }
   ],
   "source": [
    "os.listdir()"
   ]
  },
  {
   "cell_type": "code",
   "execution_count": 4,
   "id": "132da5bd",
   "metadata": {},
   "outputs": [],
   "source": [
    "mobile=pd.read_csv(\"mobile_price.csv\")"
   ]
  },
  {
   "cell_type": "code",
   "execution_count": 5,
   "id": "ff7d0ccd",
   "metadata": {},
   "outputs": [
    {
     "data": {
      "text/html": [
       "<div>\n",
       "<style scoped>\n",
       "    .dataframe tbody tr th:only-of-type {\n",
       "        vertical-align: middle;\n",
       "    }\n",
       "\n",
       "    .dataframe tbody tr th {\n",
       "        vertical-align: top;\n",
       "    }\n",
       "\n",
       "    .dataframe thead th {\n",
       "        text-align: right;\n",
       "    }\n",
       "</style>\n",
       "<table border=\"1\" class=\"dataframe\">\n",
       "  <thead>\n",
       "    <tr style=\"text-align: right;\">\n",
       "      <th></th>\n",
       "      <th>battery_power</th>\n",
       "      <th>blue</th>\n",
       "      <th>clock_speed</th>\n",
       "      <th>dual_sim</th>\n",
       "      <th>fc</th>\n",
       "      <th>four_g</th>\n",
       "      <th>int_memory</th>\n",
       "      <th>m_dep</th>\n",
       "      <th>mobile_wt</th>\n",
       "      <th>n_cores</th>\n",
       "      <th>...</th>\n",
       "      <th>px_height</th>\n",
       "      <th>px_width</th>\n",
       "      <th>ram</th>\n",
       "      <th>sc_h</th>\n",
       "      <th>sc_w</th>\n",
       "      <th>talk_time</th>\n",
       "      <th>three_g</th>\n",
       "      <th>touch_screen</th>\n",
       "      <th>wifi</th>\n",
       "      <th>price_range</th>\n",
       "    </tr>\n",
       "  </thead>\n",
       "  <tbody>\n",
       "    <tr>\n",
       "      <th>0</th>\n",
       "      <td>842</td>\n",
       "      <td>0</td>\n",
       "      <td>2.2</td>\n",
       "      <td>0</td>\n",
       "      <td>1</td>\n",
       "      <td>0</td>\n",
       "      <td>7</td>\n",
       "      <td>0.6</td>\n",
       "      <td>188</td>\n",
       "      <td>2</td>\n",
       "      <td>...</td>\n",
       "      <td>20</td>\n",
       "      <td>756</td>\n",
       "      <td>2549</td>\n",
       "      <td>9</td>\n",
       "      <td>7</td>\n",
       "      <td>19</td>\n",
       "      <td>0</td>\n",
       "      <td>0</td>\n",
       "      <td>1</td>\n",
       "      <td>1</td>\n",
       "    </tr>\n",
       "    <tr>\n",
       "      <th>1</th>\n",
       "      <td>1021</td>\n",
       "      <td>1</td>\n",
       "      <td>0.5</td>\n",
       "      <td>1</td>\n",
       "      <td>0</td>\n",
       "      <td>1</td>\n",
       "      <td>53</td>\n",
       "      <td>0.7</td>\n",
       "      <td>136</td>\n",
       "      <td>3</td>\n",
       "      <td>...</td>\n",
       "      <td>905</td>\n",
       "      <td>1988</td>\n",
       "      <td>2631</td>\n",
       "      <td>17</td>\n",
       "      <td>3</td>\n",
       "      <td>7</td>\n",
       "      <td>1</td>\n",
       "      <td>1</td>\n",
       "      <td>0</td>\n",
       "      <td>2</td>\n",
       "    </tr>\n",
       "    <tr>\n",
       "      <th>2</th>\n",
       "      <td>563</td>\n",
       "      <td>1</td>\n",
       "      <td>0.5</td>\n",
       "      <td>1</td>\n",
       "      <td>2</td>\n",
       "      <td>1</td>\n",
       "      <td>41</td>\n",
       "      <td>0.9</td>\n",
       "      <td>145</td>\n",
       "      <td>5</td>\n",
       "      <td>...</td>\n",
       "      <td>1263</td>\n",
       "      <td>1716</td>\n",
       "      <td>2603</td>\n",
       "      <td>11</td>\n",
       "      <td>2</td>\n",
       "      <td>9</td>\n",
       "      <td>1</td>\n",
       "      <td>1</td>\n",
       "      <td>0</td>\n",
       "      <td>2</td>\n",
       "    </tr>\n",
       "  </tbody>\n",
       "</table>\n",
       "<p>3 rows × 21 columns</p>\n",
       "</div>"
      ],
      "text/plain": [
       "   battery_power  blue  clock_speed  dual_sim  fc  four_g  int_memory  m_dep  \\\n",
       "0            842     0          2.2         0   1       0           7    0.6   \n",
       "1           1021     1          0.5         1   0       1          53    0.7   \n",
       "2            563     1          0.5         1   2       1          41    0.9   \n",
       "\n",
       "   mobile_wt  n_cores  ...  px_height  px_width   ram  sc_h  sc_w  talk_time  \\\n",
       "0        188        2  ...         20       756  2549     9     7         19   \n",
       "1        136        3  ...        905      1988  2631    17     3          7   \n",
       "2        145        5  ...       1263      1716  2603    11     2          9   \n",
       "\n",
       "   three_g  touch_screen  wifi  price_range  \n",
       "0        0             0     1            1  \n",
       "1        1             1     0            2  \n",
       "2        1             1     0            2  \n",
       "\n",
       "[3 rows x 21 columns]"
      ]
     },
     "execution_count": 5,
     "metadata": {},
     "output_type": "execute_result"
    }
   ],
   "source": [
    "mobile.head(3)"
   ]
  },
  {
   "cell_type": "code",
   "execution_count": 6,
   "id": "56e6d7b2",
   "metadata": {},
   "outputs": [
    {
     "data": {
      "text/plain": [
       "(2000, 21)"
      ]
     },
     "execution_count": 6,
     "metadata": {},
     "output_type": "execute_result"
    }
   ],
   "source": [
    "mobile.shape"
   ]
  },
  {
   "cell_type": "code",
   "execution_count": 7,
   "id": "ebda6230",
   "metadata": {},
   "outputs": [
    {
     "name": "stdout",
     "output_type": "stream",
     "text": [
      "<class 'pandas.core.frame.DataFrame'>\n",
      "RangeIndex: 2000 entries, 0 to 1999\n",
      "Data columns (total 21 columns):\n",
      " #   Column         Non-Null Count  Dtype  \n",
      "---  ------         --------------  -----  \n",
      " 0   battery_power  2000 non-null   int64  \n",
      " 1   blue           2000 non-null   int64  \n",
      " 2   clock_speed    2000 non-null   float64\n",
      " 3   dual_sim       2000 non-null   int64  \n",
      " 4   fc             2000 non-null   int64  \n",
      " 5   four_g         2000 non-null   int64  \n",
      " 6   int_memory     2000 non-null   int64  \n",
      " 7   m_dep          2000 non-null   float64\n",
      " 8   mobile_wt      2000 non-null   int64  \n",
      " 9   n_cores        2000 non-null   int64  \n",
      " 10  pc             2000 non-null   int64  \n",
      " 11  px_height      2000 non-null   int64  \n",
      " 12  px_width       2000 non-null   int64  \n",
      " 13  ram            2000 non-null   int64  \n",
      " 14  sc_h           2000 non-null   int64  \n",
      " 15  sc_w           2000 non-null   int64  \n",
      " 16  talk_time      2000 non-null   int64  \n",
      " 17  three_g        2000 non-null   int64  \n",
      " 18  touch_screen   2000 non-null   int64  \n",
      " 19  wifi           2000 non-null   int64  \n",
      " 20  price_range    2000 non-null   int64  \n",
      "dtypes: float64(2), int64(19)\n",
      "memory usage: 328.2 KB\n"
     ]
    }
   ],
   "source": [
    "mobile.info()"
   ]
  },
  {
   "cell_type": "markdown",
   "id": "7395b471",
   "metadata": {},
   "source": [
    "#### EDA "
   ]
  },
  {
   "cell_type": "code",
   "execution_count": 8,
   "id": "7fefd742",
   "metadata": {},
   "outputs": [],
   "source": [
    "def univariate_num(data,x, bxplot=True, hist_graph=True):\n",
    "    minn=data[x].min()\n",
    "    maxx=data[x].max()\n",
    "    stdd=data[x].std()\n",
    "    meann=data[x].mean()\n",
    "    q1=data[x].quantile(.25)\n",
    "    q2=data[x].quantile(.5)\n",
    "    q3=data[x].quantile(.75)\n",
    "    iqr=q3-q1\n",
    "    skewness=data[x].skew()\n",
    "    \n",
    "    if bxplot==True:\n",
    "        sns.boxplot(y=data[x])\n",
    "        plt.show()\n",
    "    if hist_graph==True:\n",
    "        sns.histplot(data=data, x=x)\n",
    "        plt.show()\n",
    "    result={\"missing_value\":data[x].isnull().sum(), \n",
    "           \"min\":minn,\n",
    "           \"max\":maxx,\n",
    "           \"std\":round(stdd, 2),\n",
    "           \"mean\":round(meann, 2),\n",
    "           \"q1\":round(q1,2),\"q2\":round(q2, 2), \n",
    "            \"q3\":round(q3,2), \"iqr\":round(iqr,2),\"skewness\":round(skewness,2)}\n",
    "    return result"
   ]
  },
  {
   "cell_type": "code",
   "execution_count": 9,
   "id": "28f77220",
   "metadata": {},
   "outputs": [
    {
     "data": {
      "image/png": "[encoded data removed]",
      "text/plain": [
       "<Figure size 432x288 with 1 Axes>"
      ]
     },
     "metadata": {
      "needs_background": "light"
     },
     "output_type": "display_data"
    },
    {
     "data": {
      "image/png": "[encoded data removed]",
      "text/plain": [
       "<Figure size 432x288 with 1 Axes>"
      ]
     },
     "metadata": {
      "needs_background": "light"
     },
     "output_type": "display_data"
    },
    {
     "data": {
      "text/plain": [
       "{'missing_value': 0,\n",
       " 'min': 501,\n",
       " 'max': 1998,\n",
       " 'std': 439.42,\n",
       " 'mean': 1238.52,\n",
       " 'q1': 851.75,\n",
       " 'q2': 1226.0,\n",
       " 'q3': 1615.25,\n",
       " 'iqr': 763.5,\n",
       " 'skewness': 0.03}"
      ]
     },
     "execution_count": 9,
     "metadata": {},
     "output_type": "execute_result"
    }
   ],
   "source": [
    "univariate_num(data=mobile, x=\"battery_power\")"
   ]
  },
  {
   "cell_type": "code",
   "execution_count": 10,
   "id": "30fb0715",
   "metadata": {},
   "outputs": [],
   "source": [
    "# mobile.describe().T"
   ]
  },
  {
   "cell_type": "markdown",
   "id": "a713014e",
   "metadata": {},
   "source": [
    "### Note : `Explore the data and write your comments`"
   ]
  },
  {
   "cell_type": "markdown",
   "id": "ef9a9583",
   "metadata": {},
   "source": [
    "##### model development "
   ]
  },
  {
   "cell_type": "code",
   "execution_count": 11,
   "id": "504bb61f",
   "metadata": {},
   "outputs": [],
   "source": [
    "y=mobile[\"price_range\"]\n",
    "x=mobile.drop(columns=[\"price_range\"])"
   ]
  },
  {
   "cell_type": "code",
   "execution_count": 12,
   "id": "1aa768e4",
   "metadata": {},
   "outputs": [],
   "source": [
    "x_train, x_test, y_train, y_test=train_test_split(x,y, test_size=.2,random_state=88)"
   ]
  },
  {
   "cell_type": "code",
   "execution_count": 13,
   "id": "9f35a7f1",
   "metadata": {},
   "outputs": [
    {
     "data": {
      "text/html": [
       "<style>#sk-container-id-1 {color: black;background-color: white;}#sk-container-id-1 pre{padding: 0;}#sk-container-id-1 div.sk-toggleable {background-color: white;}#sk-container-id-1 label.sk-toggleable__label {cursor: pointer;display: block;width: 100%;margin-bottom: 0;padding: 0.3em;box-sizing: border-box;text-align: center;}#sk-container-id-1 label.sk-toggleable__label-arrow:before {content: \"▸\";float: left;margin-right: 0.25em;color: #696969;}#sk-container-id-1 label.sk-toggleable__label-arrow:hover:before {color: black;}#sk-container-id-1 div.sk-estimator:hover label.sk-toggleable__label-arrow:before {color: black;}#sk-container-id-1 div.sk-toggleable__content {max-height: 0;max-width: 0;overflow: hidden;text-align: left;background-color: #f0f8ff;}#sk-container-id-1 div.sk-toggleable__content pre {margin: 0.2em;color: black;border-radius: 0.25em;background-color: #f0f8ff;}#sk-container-id-1 input.sk-toggleable__control:checked~div.sk-toggleable__content {max-height: 200px;max-width: 100%;overflow: auto;}#sk-container-id-1 input.sk-toggleable__control:checked~label.sk-toggleable__label-arrow:before {content: \"▾\";}#sk-container-id-1 div.sk-estimator input.sk-toggleable__control:checked~label.sk-toggleable__label {background-color: #d4ebff;}#sk-container-id-1 div.sk-label input.sk-toggleable__control:checked~label.sk-toggleable__label {background-color: #d4ebff;}#sk-container-id-1 input.sk-hidden--visually {border: 0;clip: rect(1px 1px 1px 1px);clip: rect(1px, 1px, 1px, 1px);height: 1px;margin: -1px;overflow: hidden;padding: 0;position: absolute;width: 1px;}#sk-container-id-1 div.sk-estimator {font-family: monospace;background-color: #f0f8ff;border: 1px dotted black;border-radius: 0.25em;box-sizing: border-box;margin-bottom: 0.5em;}#sk-container-id-1 div.sk-estimator:hover {background-color: #d4ebff;}#sk-container-id-1 div.sk-parallel-item::after {content: \"\";width: 100%;border-bottom: 1px solid gray;flex-grow: 1;}#sk-container-id-1 div.sk-label:hover label.sk-toggleable__label {background-color: #d4ebff;}#sk-container-id-1 div.sk-serial::before {content: \"\";position: absolute;border-left: 1px solid gray;box-sizing: border-box;top: 0;bottom: 0;left: 50%;z-index: 0;}#sk-container-id-1 div.sk-serial {display: flex;flex-direction: column;align-items: center;background-color: white;padding-right: 0.2em;padding-left: 0.2em;position: relative;}#sk-container-id-1 div.sk-item {position: relative;z-index: 1;}#sk-container-id-1 div.sk-parallel {display: flex;align-items: stretch;justify-content: center;background-color: white;position: relative;}#sk-container-id-1 div.sk-item::before, #sk-container-id-1 div.sk-parallel-item::before {content: \"\";position: absolute;border-left: 1px solid gray;box-sizing: border-box;top: 0;bottom: 0;left: 50%;z-index: -1;}#sk-container-id-1 div.sk-parallel-item {display: flex;flex-direction: column;z-index: 1;position: relative;background-color: white;}#sk-container-id-1 div.sk-parallel-item:first-child::after {align-self: flex-end;width: 50%;}#sk-container-id-1 div.sk-parallel-item:last-child::after {align-self: flex-start;width: 50%;}#sk-container-id-1 div.sk-parallel-item:only-child::after {width: 0;}#sk-container-id-1 div.sk-dashed-wrapped {border: 1px dashed gray;margin: 0 0.4em 0.5em 0.4em;box-sizing: border-box;padding-bottom: 0.4em;background-color: white;}#sk-container-id-1 div.sk-label label {font-family: monospace;font-weight: bold;display: inline-block;line-height: 1.2em;}#sk-container-id-1 div.sk-label-container {text-align: center;}#sk-container-id-1 div.sk-container {/* jupyter's `normalize.less` sets `[hidden] { display: none; }` but bootstrap.min.css set `[hidden] { display: none !important; }` so we also need the `!important` here to be able to override the default hidden behavior on the sphinx rendered scikit-learn.org. See: https://github.com/scikit-learn/scikit-learn/issues/21755 */display: inline-block !important;position: relative;}#sk-container-id-1 div.sk-text-repr-fallback {display: none;}</style><div id=\"sk-container-id-1\" class=\"sk-top-container\"><div class=\"sk-text-repr-fallback\"><pre>KNeighborsClassifier()</pre><b>In a Jupyter environment, please rerun this cell to show the HTML representation or trust the notebook. <br />On GitHub, the HTML representation is unable to render, please try loading this page with nbviewer.org.</b></div><div class=\"sk-container\" hidden><div class=\"sk-item\"><div class=\"sk-estimator sk-toggleable\"><input class=\"sk-toggleable__control sk-hidden--visually\" id=\"sk-estimator-id-1\" type=\"checkbox\" checked><label for=\"sk-estimator-id-1\" class=\"sk-toggleable__label sk-toggleable__label-arrow\">KNeighborsClassifier</label><div class=\"sk-toggleable__content\"><pre>KNeighborsClassifier()</pre></div></div></div></div></div>"
      ],
      "text/plain": [
       "KNeighborsClassifier()"
      ]
     },
     "execution_count": 13,
     "metadata": {},
     "output_type": "execute_result"
    }
   ],
   "source": [
    "knn=KNeighborsClassifier()\n",
    "knn.fit(x_train, y_train) "
   ]
  },
  {
   "cell_type": "code",
   "execution_count": 17,
   "id": "4f903bc7",
   "metadata": {},
   "outputs": [],
   "source": [
    "# help(knn) "
   ]
  },
  {
   "cell_type": "code",
   "execution_count": 14,
   "id": "a7a0054d",
   "metadata": {},
   "outputs": [
    {
     "name": "stdout",
     "output_type": "stream",
     "text": [
      "Train Score 0.95375\n",
      "Test Score 0.905\n"
     ]
    }
   ],
   "source": [
    "print(\"Train Score\", knn.score(x_train, y_train))\n",
    "print(\"Test Score\", knn.score(x_test, y_test))"
   ]
  },
  {
   "cell_type": "markdown",
   "id": "e3293fc3",
   "metadata": {},
   "source": [
    "### parameter tuning"
   ]
  },
  {
   "cell_type": "code",
   "execution_count": 16,
   "id": "8ac1d5de",
   "metadata": {},
   "outputs": [
    {
     "data": {
      "text/html": [
       "<style>#sk-container-id-3 {color: black;background-color: white;}#sk-container-id-3 pre{padding: 0;}#sk-container-id-3 div.sk-toggleable {background-color: white;}#sk-container-id-3 label.sk-toggleable__label {cursor: pointer;display: block;width: 100%;margin-bottom: 0;padding: 0.3em;box-sizing: border-box;text-align: center;}#sk-container-id-3 label.sk-toggleable__label-arrow:before {content: \"▸\";float: left;margin-right: 0.25em;color: #696969;}#sk-container-id-3 label.sk-toggleable__label-arrow:hover:before {color: black;}#sk-container-id-3 div.sk-estimator:hover label.sk-toggleable__label-arrow:before {color: black;}#sk-container-id-3 div.sk-toggleable__content {max-height: 0;max-width: 0;overflow: hidden;text-align: left;background-color: #f0f8ff;}#sk-container-id-3 div.sk-toggleable__content pre {margin: 0.2em;color: black;border-radius: 0.25em;background-color: #f0f8ff;}#sk-container-id-3 input.sk-toggleable__control:checked~div.sk-toggleable__content {max-height: 200px;max-width: 100%;overflow: auto;}#sk-container-id-3 input.sk-toggleable__control:checked~label.sk-toggleable__label-arrow:before {content: \"▾\";}#sk-container-id-3 div.sk-estimator input.sk-toggleable__control:checked~label.sk-toggleable__label {background-color: #d4ebff;}#sk-container-id-3 div.sk-label input.sk-toggleable__control:checked~label.sk-toggleable__label {background-color: #d4ebff;}#sk-container-id-3 input.sk-hidden--visually {border: 0;clip: rect(1px 1px 1px 1px);clip: rect(1px, 1px, 1px, 1px);height: 1px;margin: -1px;overflow: hidden;padding: 0;position: absolute;width: 1px;}#sk-container-id-3 div.sk-estimator {font-family: monospace;background-color: #f0f8ff;border: 1px dotted black;border-radius: 0.25em;box-sizing: border-box;margin-bottom: 0.5em;}#sk-container-id-3 div.sk-estimator:hover {background-color: #d4ebff;}#sk-container-id-3 div.sk-parallel-item::after {content: \"\";width: 100%;border-bottom: 1px solid gray;flex-grow: 1;}#sk-container-id-3 div.sk-label:hover label.sk-toggleable__label {background-color: #d4ebff;}#sk-container-id-3 div.sk-serial::before {content: \"\";position: absolute;border-left: 1px solid gray;box-sizing: border-box;top: 0;bottom: 0;left: 50%;z-index: 0;}#sk-container-id-3 div.sk-serial {display: flex;flex-direction: column;align-items: center;background-color: white;padding-right: 0.2em;padding-left: 0.2em;position: relative;}#sk-container-id-3 div.sk-item {position: relative;z-index: 1;}#sk-container-id-3 div.sk-parallel {display: flex;align-items: stretch;justify-content: center;background-color: white;position: relative;}#sk-container-id-3 div.sk-item::before, #sk-container-id-3 div.sk-parallel-item::before {content: \"\";position: absolute;border-left: 1px solid gray;box-sizing: border-box;top: 0;bottom: 0;left: 50%;z-index: -1;}#sk-container-id-3 div.sk-parallel-item {display: flex;flex-direction: column;z-index: 1;position: relative;background-color: white;}#sk-container-id-3 div.sk-parallel-item:first-child::after {align-self: flex-end;width: 50%;}#sk-container-id-3 div.sk-parallel-item:last-child::after {align-self: flex-start;width: 50%;}#sk-container-id-3 div.sk-parallel-item:only-child::after {width: 0;}#sk-container-id-3 div.sk-dashed-wrapped {border: 1px dashed gray;margin: 0 0.4em 0.5em 0.4em;box-sizing: border-box;padding-bottom: 0.4em;background-color: white;}#sk-container-id-3 div.sk-label label {font-family: monospace;font-weight: bold;display: inline-block;line-height: 1.2em;}#sk-container-id-3 div.sk-label-container {text-align: center;}#sk-container-id-3 div.sk-container {/* jupyter's `normalize.less` sets `[hidden] { display: none; }` but bootstrap.min.css set `[hidden] { display: none !important; }` so we also need the `!important` here to be able to override the default hidden behavior on the sphinx rendered scikit-learn.org. See: https://github.com/scikit-learn/scikit-learn/issues/21755 */display: inline-block !important;position: relative;}#sk-container-id-3 div.sk-text-repr-fallback {display: none;}</style><div id=\"sk-container-id-3\" class=\"sk-top-container\"><div class=\"sk-text-repr-fallback\"><pre>KNeighborsClassifier(n_neighbors=19, p=4)</pre><b>In a Jupyter environment, please rerun this cell to show the HTML representation or trust the notebook. <br />On GitHub, the HTML representation is unable to render, please try loading this page with nbviewer.org.</b></div><div class=\"sk-container\" hidden><div class=\"sk-item\"><div class=\"sk-estimator sk-toggleable\"><input class=\"sk-toggleable__control sk-hidden--visually\" id=\"sk-estimator-id-3\" type=\"checkbox\" checked><label for=\"sk-estimator-id-3\" class=\"sk-toggleable__label sk-toggleable__label-arrow\">KNeighborsClassifier</label><div class=\"sk-toggleable__content\"><pre>KNeighborsClassifier(n_neighbors=19, p=4)</pre></div></div></div></div></div>"
      ],
      "text/plain": [
       "KNeighborsClassifier(n_neighbors=19, p=4)"
      ]
     },
     "execution_count": 16,
     "metadata": {},
     "output_type": "execute_result"
    }
   ],
   "source": [
    "knn=KNeighborsClassifier(n_neighbors=19, p=4)\n",
    "knn.fit(x_train, y_train)"
   ]
  },
  {
   "cell_type": "code",
   "execution_count": 17,
   "id": "6f4652e8",
   "metadata": {},
   "outputs": [
    {
     "name": "stdout",
     "output_type": "stream",
     "text": [
      "Train Score 0.936875\n",
      "Test Score 0.9125\n"
     ]
    }
   ],
   "source": [
    "print(\"Train Score\", knn.score(x_train, y_train))\n",
    "print(\"Test Score\", knn.score(x_test, y_test))"
   ]
  },
  {
   "cell_type": "code",
   "execution_count": 18,
   "id": "568a48f6",
   "metadata": {},
   "outputs": [
    {
     "data": {
      "text/plain": [
       "(1600, 20)"
      ]
     },
     "execution_count": 18,
     "metadata": {},
     "output_type": "execute_result"
    }
   ],
   "source": [
    "x_train.shape"
   ]
  },
  {
   "cell_type": "code",
   "execution_count": 19,
   "id": "01aec3c3",
   "metadata": {},
   "outputs": [
    {
     "name": "stdout",
     "output_type": "stream",
     "text": [
      "Fitting 10 folds for each of 60 candidates, totalling 600 fits\n",
      "[CV] END .................................n_neighbors=3, p=1; total time=   0.0s\n",
      "[CV] END .................................n_neighbors=3, p=1; total time=   0.0s\n",
      "[CV] END .................................n_neighbors=3, p=1; total time=   0.0s\n",
      "[CV] END .................................n_neighbors=3, p=1; total time=   0.0s\n",
      "[CV] END .................................n_neighbors=3, p=1; total time=   0.1s\n",
      "[CV] END .................................n_neighbors=3, p=1; total time=   0.0s\n",
      "[CV] END .................................n_neighbors=3, p=1; total time=   0.0s\n",
      "[CV] END .................................n_neighbors=3, p=1; total time=   0.0s\n",
      "[CV] END .................................n_neighbors=3, p=1; total time=   0.0s\n",
      "[CV] END .................................n_neighbors=3, p=1; total time=   0.0s\n",
      "[CV] END .................................n_neighbors=3, p=2; total time=   0.1s\n",
      "[CV] END .................................n_neighbors=3, p=2; total time=   0.0s\n",
      "[CV] END .................................n_neighbors=3, p=2; total time=   0.1s\n",
      "[CV] END .................................n_neighbors=3, p=2; total time=   0.1s\n",
      "[CV] END .................................n_neighbors=3, p=2; total time=   0.1s\n",
      "[CV] END .................................n_neighbors=3, p=2; total time=   0.1s\n",
      "[CV] END .................................n_neighbors=3, p=2; total time=   0.1s\n",
      "[CV] END .................................n_neighbors=3, p=2; total time=   0.1s\n",
      "[CV] END .................................n_neighbors=3, p=2; total time=   0.1s\n",
      "[CV] END .................................n_neighbors=3, p=2; total time=   0.0s\n",
      "[CV] END .................................n_neighbors=3, p=3; total time=   0.1s\n",
      "[CV] END .................................n_neighbors=3, p=3; total time=   0.1s\n",
      "[CV] END .................................n_neighbors=3, p=3; total time=   0.1s\n",
      "[CV] END .................................n_neighbors=3, p=3; total time=   0.1s\n",
      "[CV] END .................................n_neighbors=3, p=3; total time=   0.1s\n",
      "[CV] END .................................n_neighbors=3, p=3; total time=   0.1s\n",
      "[CV] END .................................n_neighbors=3, p=3; total time=   0.1s\n",
      "[CV] END .................................n_neighbors=3, p=3; total time=   0.1s\n",
      "[CV] END .................................n_neighbors=3, p=3; total time=   0.1s\n",
      "[CV] END .................................n_neighbors=3, p=3; total time=   0.1s\n",
      "[CV] END .................................n_neighbors=3, p=4; total time=   0.1s\n",
      "[CV] END .................................n_neighbors=3, p=4; total time=   0.1s\n",
      "[CV] END .................................n_neighbors=3, p=4; total time=   0.1s\n",
      "[CV] END .................................n_neighbors=3, p=4; total time=   0.1s\n",
      "[CV] END .................................n_neighbors=3, p=4; total time=   0.1s\n",
      "[CV] END .................................n_neighbors=3, p=4; total time=   0.1s\n",
      "[CV] END .................................n_neighbors=3, p=4; total time=   0.1s\n",
      "[CV] END .................................n_neighbors=3, p=4; total time=   0.1s\n",
      "[CV] END .................................n_neighbors=3, p=4; total time=   0.1s\n",
      "[CV] END .................................n_neighbors=3, p=4; total time=   0.1s\n",
      "[CV] END .................................n_neighbors=3, p=5; total time=   0.1s\n",
      "[CV] END .................................n_neighbors=3, p=5; total time=   0.1s\n",
      "[CV] END .................................n_neighbors=3, p=5; total time=   0.1s\n",
      "[CV] END .................................n_neighbors=3, p=5; total time=   0.1s\n",
      "[CV] END .................................n_neighbors=3, p=5; total time=   0.1s\n",
      "[CV] END .................................n_neighbors=3, p=5; total time=   0.2s\n",
      "[CV] END .................................n_neighbors=3, p=5; total time=   0.1s\n",
      "[CV] END .................................n_neighbors=3, p=5; total time=   0.1s\n",
      "[CV] END .................................n_neighbors=3, p=5; total time=   0.1s\n",
      "[CV] END .................................n_neighbors=3, p=5; total time=   0.1s\n",
      "[CV] END .................................n_neighbors=5, p=1; total time=   0.0s\n",
      "[CV] END .................................n_neighbors=5, p=1; total time=   0.0s\n",
      "[CV] END .................................n_neighbors=5, p=1; total time=   0.0s\n",
      "[CV] END .................................n_neighbors=5, p=1; total time=   0.1s\n",
      "[CV] END .................................n_neighbors=5, p=1; total time=   0.0s\n",
      "[CV] END .................................n_neighbors=5, p=1; total time=   0.0s\n",
      "[CV] END .................................n_neighbors=5, p=1; total time=   0.1s\n",
      "[CV] END .................................n_neighbors=5, p=1; total time=   0.0s\n",
      "[CV] END .................................n_neighbors=5, p=1; total time=   0.0s\n",
      "[CV] END .................................n_neighbors=5, p=1; total time=   0.0s\n",
      "[CV] END .................................n_neighbors=5, p=2; total time=   0.1s\n",
      "[CV] END .................................n_neighbors=5, p=2; total time=   0.1s\n",
      "[CV] END .................................n_neighbors=5, p=2; total time=   0.1s\n",
      "[CV] END .................................n_neighbors=5, p=2; total time=   0.1s\n",
      "[CV] END .................................n_neighbors=5, p=2; total time=   0.1s\n",
      "[CV] END .................................n_neighbors=5, p=2; total time=   0.1s\n",
      "[CV] END .................................n_neighbors=5, p=2; total time=   0.1s\n",
      "[CV] END .................................n_neighbors=5, p=2; total time=   0.0s\n",
      "[CV] END .................................n_neighbors=5, p=2; total time=   0.0s\n",
      "[CV] END .................................n_neighbors=5, p=2; total time=   0.0s\n",
      "[CV] END .................................n_neighbors=5, p=3; total time=   0.1s\n",
      "[CV] END .................................n_neighbors=5, p=3; total time=   0.1s\n",
      "[CV] END .................................n_neighbors=5, p=3; total time=   0.1s\n",
      "[CV] END .................................n_neighbors=5, p=3; total time=   0.1s\n",
      "[CV] END .................................n_neighbors=5, p=3; total time=   0.1s\n",
      "[CV] END .................................n_neighbors=5, p=3; total time=   0.1s\n",
      "[CV] END .................................n_neighbors=5, p=3; total time=   0.1s\n",
      "[CV] END .................................n_neighbors=5, p=3; total time=   0.1s\n",
      "[CV] END .................................n_neighbors=5, p=3; total time=   0.1s\n",
      "[CV] END .................................n_neighbors=5, p=3; total time=   0.1s\n",
      "[CV] END .................................n_neighbors=5, p=4; total time=   0.1s\n",
      "[CV] END .................................n_neighbors=5, p=4; total time=   0.1s\n",
      "[CV] END .................................n_neighbors=5, p=4; total time=   0.1s\n",
      "[CV] END .................................n_neighbors=5, p=4; total time=   0.1s\n",
      "[CV] END .................................n_neighbors=5, p=4; total time=   0.1s\n",
      "[CV] END .................................n_neighbors=5, p=4; total time=   0.1s\n",
      "[CV] END .................................n_neighbors=5, p=4; total time=   0.1s\n",
      "[CV] END .................................n_neighbors=5, p=4; total time=   0.1s\n",
      "[CV] END .................................n_neighbors=5, p=4; total time=   0.1s\n",
      "[CV] END .................................n_neighbors=5, p=4; total time=   0.1s\n",
      "[CV] END .................................n_neighbors=5, p=5; total time=   0.1s\n",
      "[CV] END .................................n_neighbors=5, p=5; total time=   0.1s\n",
      "[CV] END .................................n_neighbors=5, p=5; total time=   0.1s\n",
      "[CV] END .................................n_neighbors=5, p=5; total time=   0.1s\n",
      "[CV] END .................................n_neighbors=5, p=5; total time=   0.1s\n",
      "[CV] END .................................n_neighbors=5, p=5; total time=   0.1s\n",
      "[CV] END .................................n_neighbors=5, p=5; total time=   0.1s\n",
      "[CV] END .................................n_neighbors=5, p=5; total time=   0.1s\n",
      "[CV] END .................................n_neighbors=5, p=5; total time=   0.1s\n",
      "[CV] END .................................n_neighbors=5, p=5; total time=   0.1s\n",
      "[CV] END .................................n_neighbors=7, p=1; total time=   0.0s\n"
     ]
    },
    {
     "name": "stdout",
     "output_type": "stream",
     "text": [
      "[CV] END .................................n_neighbors=7, p=1; total time=   0.0s\n",
      "[CV] END .................................n_neighbors=7, p=1; total time=   0.0s\n",
      "[CV] END .................................n_neighbors=7, p=1; total time=   0.0s\n",
      "[CV] END .................................n_neighbors=7, p=1; total time=   0.0s\n",
      "[CV] END .................................n_neighbors=7, p=1; total time=   0.0s\n",
      "[CV] END .................................n_neighbors=7, p=1; total time=   0.0s\n",
      "[CV] END .................................n_neighbors=7, p=1; total time=   0.0s\n",
      "[CV] END .................................n_neighbors=7, p=1; total time=   0.0s\n",
      "[CV] END .................................n_neighbors=7, p=1; total time=   0.0s\n",
      "[CV] END .................................n_neighbors=7, p=2; total time=   0.1s\n",
      "[CV] END .................................n_neighbors=7, p=2; total time=   0.1s\n",
      "[CV] END .................................n_neighbors=7, p=2; total time=   0.1s\n",
      "[CV] END .................................n_neighbors=7, p=2; total time=   0.1s\n",
      "[CV] END .................................n_neighbors=7, p=2; total time=   0.1s\n",
      "[CV] END .................................n_neighbors=7, p=2; total time=   0.1s\n",
      "[CV] END .................................n_neighbors=7, p=2; total time=   0.1s\n",
      "[CV] END .................................n_neighbors=7, p=2; total time=   0.1s\n",
      "[CV] END .................................n_neighbors=7, p=2; total time=   0.1s\n",
      "[CV] END .................................n_neighbors=7, p=2; total time=   0.1s\n",
      "[CV] END .................................n_neighbors=7, p=3; total time=   0.1s\n",
      "[CV] END .................................n_neighbors=7, p=3; total time=   0.1s\n",
      "[CV] END .................................n_neighbors=7, p=3; total time=   0.1s\n",
      "[CV] END .................................n_neighbors=7, p=3; total time=   0.1s\n",
      "[CV] END .................................n_neighbors=7, p=3; total time=   0.1s\n",
      "[CV] END .................................n_neighbors=7, p=3; total time=   0.1s\n",
      "[CV] END .................................n_neighbors=7, p=3; total time=   0.1s\n",
      "[CV] END .................................n_neighbors=7, p=3; total time=   0.1s\n",
      "[CV] END .................................n_neighbors=7, p=3; total time=   0.1s\n",
      "[CV] END .................................n_neighbors=7, p=3; total time=   0.1s\n",
      "[CV] END .................................n_neighbors=7, p=4; total time=   0.1s\n",
      "[CV] END .................................n_neighbors=7, p=4; total time=   0.1s\n",
      "[CV] END .................................n_neighbors=7, p=4; total time=   0.1s\n",
      "[CV] END .................................n_neighbors=7, p=4; total time=   0.1s\n",
      "[CV] END .................................n_neighbors=7, p=4; total time=   0.1s\n",
      "[CV] END .................................n_neighbors=7, p=4; total time=   0.1s\n",
      "[CV] END .................................n_neighbors=7, p=4; total time=   0.1s\n",
      "[CV] END .................................n_neighbors=7, p=4; total time=   0.1s\n",
      "[CV] END .................................n_neighbors=7, p=4; total time=   0.1s\n",
      "[CV] END .................................n_neighbors=7, p=4; total time=   0.1s\n",
      "[CV] END .................................n_neighbors=7, p=5; total time=   0.1s\n",
      "[CV] END .................................n_neighbors=7, p=5; total time=   0.1s\n",
      "[CV] END .................................n_neighbors=7, p=5; total time=   0.1s\n",
      "[CV] END .................................n_neighbors=7, p=5; total time=   0.1s\n",
      "[CV] END .................................n_neighbors=7, p=5; total time=   0.1s\n",
      "[CV] END .................................n_neighbors=7, p=5; total time=   0.1s\n",
      "[CV] END .................................n_neighbors=7, p=5; total time=   0.1s\n",
      "[CV] END .................................n_neighbors=7, p=5; total time=   0.1s\n",
      "[CV] END .................................n_neighbors=7, p=5; total time=   0.1s\n",
      "[CV] END .................................n_neighbors=7, p=5; total time=   0.1s\n",
      "[CV] END .................................n_neighbors=9, p=1; total time=   0.0s\n",
      "[CV] END .................................n_neighbors=9, p=1; total time=   0.0s\n",
      "[CV] END .................................n_neighbors=9, p=1; total time=   0.0s\n",
      "[CV] END .................................n_neighbors=9, p=1; total time=   0.0s\n",
      "[CV] END .................................n_neighbors=9, p=1; total time=   0.0s\n",
      "[CV] END .................................n_neighbors=9, p=1; total time=   0.0s\n",
      "[CV] END .................................n_neighbors=9, p=1; total time=   0.0s\n",
      "[CV] END .................................n_neighbors=9, p=1; total time=   0.0s\n",
      "[CV] END .................................n_neighbors=9, p=1; total time=   0.0s\n",
      "[CV] END .................................n_neighbors=9, p=1; total time=   0.0s\n",
      "[CV] END .................................n_neighbors=9, p=2; total time=   0.0s\n",
      "[CV] END .................................n_neighbors=9, p=2; total time=   0.0s\n",
      "[CV] END .................................n_neighbors=9, p=2; total time=   0.0s\n",
      "[CV] END .................................n_neighbors=9, p=2; total time=   0.1s\n",
      "[CV] END .................................n_neighbors=9, p=2; total time=   0.1s\n",
      "[CV] END .................................n_neighbors=9, p=2; total time=   0.0s\n",
      "[CV] END .................................n_neighbors=9, p=2; total time=   0.0s\n",
      "[CV] END .................................n_neighbors=9, p=2; total time=   0.0s\n",
      "[CV] END .................................n_neighbors=9, p=2; total time=   0.0s\n",
      "[CV] END .................................n_neighbors=9, p=2; total time=   0.0s\n",
      "[CV] END .................................n_neighbors=9, p=3; total time=   0.1s\n",
      "[CV] END .................................n_neighbors=9, p=3; total time=   0.1s\n",
      "[CV] END .................................n_neighbors=9, p=3; total time=   0.1s\n",
      "[CV] END .................................n_neighbors=9, p=3; total time=   0.1s\n",
      "[CV] END .................................n_neighbors=9, p=3; total time=   0.1s\n",
      "[CV] END .................................n_neighbors=9, p=3; total time=   0.1s\n",
      "[CV] END .................................n_neighbors=9, p=3; total time=   0.1s\n",
      "[CV] END .................................n_neighbors=9, p=3; total time=   0.1s\n",
      "[CV] END .................................n_neighbors=9, p=3; total time=   0.1s\n",
      "[CV] END .................................n_neighbors=9, p=3; total time=   0.1s\n",
      "[CV] END .................................n_neighbors=9, p=4; total time=   0.1s\n",
      "[CV] END .................................n_neighbors=9, p=4; total time=   0.0s\n",
      "[CV] END .................................n_neighbors=9, p=4; total time=   0.1s\n",
      "[CV] END .................................n_neighbors=9, p=4; total time=   0.1s\n",
      "[CV] END .................................n_neighbors=9, p=4; total time=   0.1s\n",
      "[CV] END .................................n_neighbors=9, p=4; total time=   0.1s\n",
      "[CV] END .................................n_neighbors=9, p=4; total time=   0.1s\n",
      "[CV] END .................................n_neighbors=9, p=4; total time=   0.1s\n",
      "[CV] END .................................n_neighbors=9, p=4; total time=   0.1s\n",
      "[CV] END .................................n_neighbors=9, p=4; total time=   0.1s\n",
      "[CV] END .................................n_neighbors=9, p=5; total time=   0.1s\n",
      "[CV] END .................................n_neighbors=9, p=5; total time=   0.1s\n",
      "[CV] END .................................n_neighbors=9, p=5; total time=   0.1s\n",
      "[CV] END .................................n_neighbors=9, p=5; total time=   0.1s\n",
      "[CV] END .................................n_neighbors=9, p=5; total time=   0.1s\n",
      "[CV] END .................................n_neighbors=9, p=5; total time=   0.1s\n",
      "[CV] END .................................n_neighbors=9, p=5; total time=   0.1s\n",
      "[CV] END .................................n_neighbors=9, p=5; total time=   0.1s\n",
      "[CV] END .................................n_neighbors=9, p=5; total time=   0.1s\n",
      "[CV] END .................................n_neighbors=9, p=5; total time=   0.1s\n",
      "[CV] END ................................n_neighbors=11, p=1; total time=   0.0s\n",
      "[CV] END ................................n_neighbors=11, p=1; total time=   0.0s\n",
      "[CV] END ................................n_neighbors=11, p=1; total time=   0.0s\n"
     ]
    },
    {
     "name": "stdout",
     "output_type": "stream",
     "text": [
      "[CV] END ................................n_neighbors=11, p=1; total time=   0.0s\n",
      "[CV] END ................................n_neighbors=11, p=1; total time=   0.0s\n",
      "[CV] END ................................n_neighbors=11, p=1; total time=   0.0s\n",
      "[CV] END ................................n_neighbors=11, p=1; total time=   0.0s\n",
      "[CV] END ................................n_neighbors=11, p=1; total time=   0.0s\n",
      "[CV] END ................................n_neighbors=11, p=1; total time=   0.0s\n",
      "[CV] END ................................n_neighbors=11, p=1; total time=   0.0s\n",
      "[CV] END ................................n_neighbors=11, p=2; total time=   0.0s\n",
      "[CV] END ................................n_neighbors=11, p=2; total time=   0.0s\n",
      "[CV] END ................................n_neighbors=11, p=2; total time=   0.0s\n",
      "[CV] END ................................n_neighbors=11, p=2; total time=   0.1s\n",
      "[CV] END ................................n_neighbors=11, p=2; total time=   0.0s\n",
      "[CV] END ................................n_neighbors=11, p=2; total time=   0.0s\n",
      "[CV] END ................................n_neighbors=11, p=2; total time=   0.0s\n",
      "[CV] END ................................n_neighbors=11, p=2; total time=   0.0s\n",
      "[CV] END ................................n_neighbors=11, p=2; total time=   0.0s\n",
      "[CV] END ................................n_neighbors=11, p=2; total time=   0.0s\n",
      "[CV] END ................................n_neighbors=11, p=3; total time=   0.1s\n",
      "[CV] END ................................n_neighbors=11, p=3; total time=   0.1s\n",
      "[CV] END ................................n_neighbors=11, p=3; total time=   0.1s\n",
      "[CV] END ................................n_neighbors=11, p=3; total time=   0.1s\n",
      "[CV] END ................................n_neighbors=11, p=3; total time=   0.1s\n",
      "[CV] END ................................n_neighbors=11, p=3; total time=   0.1s\n",
      "[CV] END ................................n_neighbors=11, p=3; total time=   0.1s\n",
      "[CV] END ................................n_neighbors=11, p=3; total time=   0.1s\n",
      "[CV] END ................................n_neighbors=11, p=3; total time=   0.1s\n",
      "[CV] END ................................n_neighbors=11, p=3; total time=   0.1s\n",
      "[CV] END ................................n_neighbors=11, p=4; total time=   0.1s\n",
      "[CV] END ................................n_neighbors=11, p=4; total time=   0.1s\n",
      "[CV] END ................................n_neighbors=11, p=4; total time=   0.1s\n",
      "[CV] END ................................n_neighbors=11, p=4; total time=   0.1s\n",
      "[CV] END ................................n_neighbors=11, p=4; total time=   0.1s\n",
      "[CV] END ................................n_neighbors=11, p=4; total time=   0.1s\n",
      "[CV] END ................................n_neighbors=11, p=4; total time=   0.1s\n",
      "[CV] END ................................n_neighbors=11, p=4; total time=   0.1s\n",
      "[CV] END ................................n_neighbors=11, p=4; total time=   0.1s\n",
      "[CV] END ................................n_neighbors=11, p=4; total time=   0.1s\n",
      "[CV] END ................................n_neighbors=11, p=5; total time=   0.1s\n",
      "[CV] END ................................n_neighbors=11, p=5; total time=   0.1s\n",
      "[CV] END ................................n_neighbors=11, p=5; total time=   0.1s\n",
      "[CV] END ................................n_neighbors=11, p=5; total time=   0.1s\n",
      "[CV] END ................................n_neighbors=11, p=5; total time=   0.1s\n",
      "[CV] END ................................n_neighbors=11, p=5; total time=   0.1s\n",
      "[CV] END ................................n_neighbors=11, p=5; total time=   0.1s\n",
      "[CV] END ................................n_neighbors=11, p=5; total time=   0.1s\n",
      "[CV] END ................................n_neighbors=11, p=5; total time=   0.1s\n",
      "[CV] END ................................n_neighbors=11, p=5; total time=   0.1s\n",
      "[CV] END ................................n_neighbors=13, p=1; total time=   0.0s\n",
      "[CV] END ................................n_neighbors=13, p=1; total time=   0.0s\n",
      "[CV] END ................................n_neighbors=13, p=1; total time=   0.0s\n",
      "[CV] END ................................n_neighbors=13, p=1; total time=   0.0s\n",
      "[CV] END ................................n_neighbors=13, p=1; total time=   0.0s\n",
      "[CV] END ................................n_neighbors=13, p=1; total time=   0.0s\n",
      "[CV] END ................................n_neighbors=13, p=1; total time=   0.0s\n",
      "[CV] END ................................n_neighbors=13, p=1; total time=   0.1s\n",
      "[CV] END ................................n_neighbors=13, p=1; total time=   0.0s\n",
      "[CV] END ................................n_neighbors=13, p=1; total time=   0.1s\n",
      "[CV] END ................................n_neighbors=13, p=2; total time=   0.1s\n",
      "[CV] END ................................n_neighbors=13, p=2; total time=   0.1s\n",
      "[CV] END ................................n_neighbors=13, p=2; total time=   0.1s\n",
      "[CV] END ................................n_neighbors=13, p=2; total time=   0.0s\n",
      "[CV] END ................................n_neighbors=13, p=2; total time=   0.1s\n",
      "[CV] END ................................n_neighbors=13, p=2; total time=   0.1s\n",
      "[CV] END ................................n_neighbors=13, p=2; total time=   0.0s\n",
      "[CV] END ................................n_neighbors=13, p=2; total time=   0.1s\n",
      "[CV] END ................................n_neighbors=13, p=2; total time=   0.1s\n",
      "[CV] END ................................n_neighbors=13, p=2; total time=   0.1s\n",
      "[CV] END ................................n_neighbors=13, p=3; total time=   0.1s\n",
      "[CV] END ................................n_neighbors=13, p=3; total time=   0.1s\n",
      "[CV] END ................................n_neighbors=13, p=3; total time=   0.1s\n",
      "[CV] END ................................n_neighbors=13, p=3; total time=   0.1s\n",
      "[CV] END ................................n_neighbors=13, p=3; total time=   0.1s\n",
      "[CV] END ................................n_neighbors=13, p=3; total time=   0.1s\n",
      "[CV] END ................................n_neighbors=13, p=3; total time=   0.1s\n",
      "[CV] END ................................n_neighbors=13, p=3; total time=   0.0s\n",
      "[CV] END ................................n_neighbors=13, p=3; total time=   0.1s\n",
      "[CV] END ................................n_neighbors=13, p=3; total time=   0.1s\n",
      "[CV] END ................................n_neighbors=13, p=4; total time=   0.1s\n",
      "[CV] END ................................n_neighbors=13, p=4; total time=   0.1s\n",
      "[CV] END ................................n_neighbors=13, p=4; total time=   0.1s\n",
      "[CV] END ................................n_neighbors=13, p=4; total time=   0.1s\n",
      "[CV] END ................................n_neighbors=13, p=4; total time=   0.1s\n",
      "[CV] END ................................n_neighbors=13, p=4; total time=   0.1s\n",
      "[CV] END ................................n_neighbors=13, p=4; total time=   0.1s\n",
      "[CV] END ................................n_neighbors=13, p=4; total time=   0.1s\n",
      "[CV] END ................................n_neighbors=13, p=4; total time=   0.1s\n",
      "[CV] END ................................n_neighbors=13, p=4; total time=   0.1s\n",
      "[CV] END ................................n_neighbors=13, p=5; total time=   0.1s\n",
      "[CV] END ................................n_neighbors=13, p=5; total time=   0.1s\n",
      "[CV] END ................................n_neighbors=13, p=5; total time=   0.1s\n",
      "[CV] END ................................n_neighbors=13, p=5; total time=   0.1s\n",
      "[CV] END ................................n_neighbors=13, p=5; total time=   0.1s\n",
      "[CV] END ................................n_neighbors=13, p=5; total time=   0.1s\n",
      "[CV] END ................................n_neighbors=13, p=5; total time=   0.1s\n",
      "[CV] END ................................n_neighbors=13, p=5; total time=   0.1s\n",
      "[CV] END ................................n_neighbors=13, p=5; total time=   0.1s\n",
      "[CV] END ................................n_neighbors=13, p=5; total time=   0.1s\n",
      "[CV] END ................................n_neighbors=15, p=1; total time=   0.0s\n",
      "[CV] END ................................n_neighbors=15, p=1; total time=   0.0s\n",
      "[CV] END ................................n_neighbors=15, p=1; total time=   0.0s\n",
      "[CV] END ................................n_neighbors=15, p=1; total time=   0.0s\n",
      "[CV] END ................................n_neighbors=15, p=1; total time=   0.0s\n",
      "[CV] END ................................n_neighbors=15, p=1; total time=   0.0s\n"
     ]
    },
    {
     "name": "stdout",
     "output_type": "stream",
     "text": [
      "[CV] END ................................n_neighbors=15, p=1; total time=   0.0s\n",
      "[CV] END ................................n_neighbors=15, p=1; total time=   0.0s\n",
      "[CV] END ................................n_neighbors=15, p=1; total time=   0.0s\n",
      "[CV] END ................................n_neighbors=15, p=1; total time=   0.0s\n",
      "[CV] END ................................n_neighbors=15, p=2; total time=   0.0s\n",
      "[CV] END ................................n_neighbors=15, p=2; total time=   0.1s\n",
      "[CV] END ................................n_neighbors=15, p=2; total time=   0.1s\n",
      "[CV] END ................................n_neighbors=15, p=2; total time=   0.1s\n",
      "[CV] END ................................n_neighbors=15, p=2; total time=   0.1s\n",
      "[CV] END ................................n_neighbors=15, p=2; total time=   0.1s\n",
      "[CV] END ................................n_neighbors=15, p=2; total time=   0.1s\n",
      "[CV] END ................................n_neighbors=15, p=2; total time=   0.1s\n",
      "[CV] END ................................n_neighbors=15, p=2; total time=   0.1s\n",
      "[CV] END ................................n_neighbors=15, p=2; total time=   0.1s\n",
      "[CV] END ................................n_neighbors=15, p=3; total time=   0.1s\n",
      "[CV] END ................................n_neighbors=15, p=3; total time=   0.1s\n",
      "[CV] END ................................n_neighbors=15, p=3; total time=   0.1s\n",
      "[CV] END ................................n_neighbors=15, p=3; total time=   0.1s\n",
      "[CV] END ................................n_neighbors=15, p=3; total time=   0.1s\n",
      "[CV] END ................................n_neighbors=15, p=3; total time=   0.1s\n",
      "[CV] END ................................n_neighbors=15, p=3; total time=   0.1s\n",
      "[CV] END ................................n_neighbors=15, p=3; total time=   0.1s\n",
      "[CV] END ................................n_neighbors=15, p=3; total time=   0.1s\n",
      "[CV] END ................................n_neighbors=15, p=3; total time=   0.1s\n",
      "[CV] END ................................n_neighbors=15, p=4; total time=   0.1s\n",
      "[CV] END ................................n_neighbors=15, p=4; total time=   0.1s\n",
      "[CV] END ................................n_neighbors=15, p=4; total time=   0.1s\n",
      "[CV] END ................................n_neighbors=15, p=4; total time=   0.1s\n",
      "[CV] END ................................n_neighbors=15, p=4; total time=   0.1s\n",
      "[CV] END ................................n_neighbors=15, p=4; total time=   0.1s\n",
      "[CV] END ................................n_neighbors=15, p=4; total time=   0.2s\n",
      "[CV] END ................................n_neighbors=15, p=4; total time=   0.1s\n",
      "[CV] END ................................n_neighbors=15, p=4; total time=   0.1s\n",
      "[CV] END ................................n_neighbors=15, p=4; total time=   0.1s\n",
      "[CV] END ................................n_neighbors=15, p=5; total time=   0.1s\n",
      "[CV] END ................................n_neighbors=15, p=5; total time=   0.1s\n",
      "[CV] END ................................n_neighbors=15, p=5; total time=   0.1s\n",
      "[CV] END ................................n_neighbors=15, p=5; total time=   0.1s\n",
      "[CV] END ................................n_neighbors=15, p=5; total time=   0.1s\n",
      "[CV] END ................................n_neighbors=15, p=5; total time=   0.1s\n",
      "[CV] END ................................n_neighbors=15, p=5; total time=   0.1s\n",
      "[CV] END ................................n_neighbors=15, p=5; total time=   0.1s\n",
      "[CV] END ................................n_neighbors=15, p=5; total time=   0.1s\n",
      "[CV] END ................................n_neighbors=15, p=5; total time=   0.1s\n",
      "[CV] END ................................n_neighbors=17, p=1; total time=   0.0s\n",
      "[CV] END ................................n_neighbors=17, p=1; total time=   0.0s\n",
      "[CV] END ................................n_neighbors=17, p=1; total time=   0.0s\n",
      "[CV] END ................................n_neighbors=17, p=1; total time=   0.0s\n",
      "[CV] END ................................n_neighbors=17, p=1; total time=   0.0s\n",
      "[CV] END ................................n_neighbors=17, p=1; total time=   0.0s\n",
      "[CV] END ................................n_neighbors=17, p=1; total time=   0.0s\n",
      "[CV] END ................................n_neighbors=17, p=1; total time=   0.0s\n",
      "[CV] END ................................n_neighbors=17, p=1; total time=   0.0s\n",
      "[CV] END ................................n_neighbors=17, p=1; total time=   0.0s\n",
      "[CV] END ................................n_neighbors=17, p=2; total time=   0.1s\n",
      "[CV] END ................................n_neighbors=17, p=2; total time=   0.1s\n",
      "[CV] END ................................n_neighbors=17, p=2; total time=   0.1s\n",
      "[CV] END ................................n_neighbors=17, p=2; total time=   0.1s\n",
      "[CV] END ................................n_neighbors=17, p=2; total time=   0.0s\n",
      "[CV] END ................................n_neighbors=17, p=2; total time=   0.1s\n",
      "[CV] END ................................n_neighbors=17, p=2; total time=   0.1s\n",
      "[CV] END ................................n_neighbors=17, p=2; total time=   0.1s\n",
      "[CV] END ................................n_neighbors=17, p=2; total time=   0.0s\n",
      "[CV] END ................................n_neighbors=17, p=2; total time=   0.0s\n",
      "[CV] END ................................n_neighbors=17, p=3; total time=   0.1s\n",
      "[CV] END ................................n_neighbors=17, p=3; total time=   0.1s\n",
      "[CV] END ................................n_neighbors=17, p=3; total time=   0.1s\n",
      "[CV] END ................................n_neighbors=17, p=3; total time=   0.1s\n",
      "[CV] END ................................n_neighbors=17, p=3; total time=   0.1s\n",
      "[CV] END ................................n_neighbors=17, p=3; total time=   0.1s\n",
      "[CV] END ................................n_neighbors=17, p=3; total time=   0.1s\n",
      "[CV] END ................................n_neighbors=17, p=3; total time=   0.1s\n",
      "[CV] END ................................n_neighbors=17, p=3; total time=   0.1s\n",
      "[CV] END ................................n_neighbors=17, p=3; total time=   0.1s\n",
      "[CV] END ................................n_neighbors=17, p=4; total time=   0.1s\n",
      "[CV] END ................................n_neighbors=17, p=4; total time=   0.1s\n",
      "[CV] END ................................n_neighbors=17, p=4; total time=   0.1s\n",
      "[CV] END ................................n_neighbors=17, p=4; total time=   0.1s\n",
      "[CV] END ................................n_neighbors=17, p=4; total time=   0.1s\n",
      "[CV] END ................................n_neighbors=17, p=4; total time=   0.1s\n",
      "[CV] END ................................n_neighbors=17, p=4; total time=   0.1s\n",
      "[CV] END ................................n_neighbors=17, p=4; total time=   0.1s\n",
      "[CV] END ................................n_neighbors=17, p=4; total time=   0.1s\n",
      "[CV] END ................................n_neighbors=17, p=4; total time=   0.1s\n",
      "[CV] END ................................n_neighbors=17, p=5; total time=   0.1s\n",
      "[CV] END ................................n_neighbors=17, p=5; total time=   0.1s\n",
      "[CV] END ................................n_neighbors=17, p=5; total time=   0.1s\n",
      "[CV] END ................................n_neighbors=17, p=5; total time=   0.1s\n",
      "[CV] END ................................n_neighbors=17, p=5; total time=   0.1s\n",
      "[CV] END ................................n_neighbors=17, p=5; total time=   0.1s\n",
      "[CV] END ................................n_neighbors=17, p=5; total time=   0.1s\n",
      "[CV] END ................................n_neighbors=17, p=5; total time=   0.1s\n",
      "[CV] END ................................n_neighbors=17, p=5; total time=   0.1s\n",
      "[CV] END ................................n_neighbors=17, p=5; total time=   0.1s\n",
      "[CV] END ................................n_neighbors=19, p=1; total time=   0.0s\n",
      "[CV] END ................................n_neighbors=19, p=1; total time=   0.0s\n",
      "[CV] END ................................n_neighbors=19, p=1; total time=   0.0s\n",
      "[CV] END ................................n_neighbors=19, p=1; total time=   0.0s\n",
      "[CV] END ................................n_neighbors=19, p=1; total time=   0.0s\n",
      "[CV] END ................................n_neighbors=19, p=1; total time=   0.0s\n",
      "[CV] END ................................n_neighbors=19, p=1; total time=   0.1s\n",
      "[CV] END ................................n_neighbors=19, p=1; total time=   0.1s\n",
      "[CV] END ................................n_neighbors=19, p=1; total time=   0.1s\n"
     ]
    },
    {
     "name": "stdout",
     "output_type": "stream",
     "text": [
      "[CV] END ................................n_neighbors=19, p=1; total time=   0.1s\n",
      "[CV] END ................................n_neighbors=19, p=2; total time=   0.1s\n",
      "[CV] END ................................n_neighbors=19, p=2; total time=   0.1s\n",
      "[CV] END ................................n_neighbors=19, p=2; total time=   0.1s\n",
      "[CV] END ................................n_neighbors=19, p=2; total time=   0.1s\n",
      "[CV] END ................................n_neighbors=19, p=2; total time=   0.1s\n",
      "[CV] END ................................n_neighbors=19, p=2; total time=   0.1s\n",
      "[CV] END ................................n_neighbors=19, p=2; total time=   0.1s\n",
      "[CV] END ................................n_neighbors=19, p=2; total time=   0.1s\n",
      "[CV] END ................................n_neighbors=19, p=2; total time=   0.1s\n",
      "[CV] END ................................n_neighbors=19, p=2; total time=   0.1s\n",
      "[CV] END ................................n_neighbors=19, p=3; total time=   0.1s\n",
      "[CV] END ................................n_neighbors=19, p=3; total time=   0.1s\n",
      "[CV] END ................................n_neighbors=19, p=3; total time=   0.1s\n",
      "[CV] END ................................n_neighbors=19, p=3; total time=   0.1s\n",
      "[CV] END ................................n_neighbors=19, p=3; total time=   0.1s\n",
      "[CV] END ................................n_neighbors=19, p=3; total time=   0.2s\n",
      "[CV] END ................................n_neighbors=19, p=3; total time=   0.3s\n",
      "[CV] END ................................n_neighbors=19, p=3; total time=   0.1s\n",
      "[CV] END ................................n_neighbors=19, p=3; total time=   0.2s\n",
      "[CV] END ................................n_neighbors=19, p=3; total time=   0.2s\n",
      "[CV] END ................................n_neighbors=19, p=4; total time=   0.1s\n",
      "[CV] END ................................n_neighbors=19, p=4; total time=   0.1s\n",
      "[CV] END ................................n_neighbors=19, p=4; total time=   0.1s\n",
      "[CV] END ................................n_neighbors=19, p=4; total time=   0.1s\n",
      "[CV] END ................................n_neighbors=19, p=4; total time=   0.1s\n",
      "[CV] END ................................n_neighbors=19, p=4; total time=   0.1s\n",
      "[CV] END ................................n_neighbors=19, p=4; total time=   0.1s\n",
      "[CV] END ................................n_neighbors=19, p=4; total time=   0.1s\n",
      "[CV] END ................................n_neighbors=19, p=4; total time=   0.1s\n",
      "[CV] END ................................n_neighbors=19, p=4; total time=   0.1s\n",
      "[CV] END ................................n_neighbors=19, p=5; total time=   0.1s\n",
      "[CV] END ................................n_neighbors=19, p=5; total time=   0.1s\n",
      "[CV] END ................................n_neighbors=19, p=5; total time=   0.1s\n",
      "[CV] END ................................n_neighbors=19, p=5; total time=   0.1s\n",
      "[CV] END ................................n_neighbors=19, p=5; total time=   0.1s\n",
      "[CV] END ................................n_neighbors=19, p=5; total time=   0.1s\n",
      "[CV] END ................................n_neighbors=19, p=5; total time=   0.1s\n",
      "[CV] END ................................n_neighbors=19, p=5; total time=   0.1s\n",
      "[CV] END ................................n_neighbors=19, p=5; total time=   0.1s\n",
      "[CV] END ................................n_neighbors=19, p=5; total time=   0.1s\n",
      "[CV] END ................................n_neighbors=21, p=1; total time=   0.1s\n",
      "[CV] END ................................n_neighbors=21, p=1; total time=   0.0s\n",
      "[CV] END ................................n_neighbors=21, p=1; total time=   0.1s\n",
      "[CV] END ................................n_neighbors=21, p=1; total time=   0.0s\n",
      "[CV] END ................................n_neighbors=21, p=1; total time=   0.0s\n",
      "[CV] END ................................n_neighbors=21, p=1; total time=   0.0s\n",
      "[CV] END ................................n_neighbors=21, p=1; total time=   0.0s\n",
      "[CV] END ................................n_neighbors=21, p=1; total time=   0.0s\n",
      "[CV] END ................................n_neighbors=21, p=1; total time=   0.0s\n",
      "[CV] END ................................n_neighbors=21, p=1; total time=   0.0s\n",
      "[CV] END ................................n_neighbors=21, p=2; total time=   0.1s\n",
      "[CV] END ................................n_neighbors=21, p=2; total time=   0.1s\n",
      "[CV] END ................................n_neighbors=21, p=2; total time=   0.0s\n",
      "[CV] END ................................n_neighbors=21, p=2; total time=   0.1s\n",
      "[CV] END ................................n_neighbors=21, p=2; total time=   0.1s\n",
      "[CV] END ................................n_neighbors=21, p=2; total time=   0.1s\n",
      "[CV] END ................................n_neighbors=21, p=2; total time=   0.1s\n",
      "[CV] END ................................n_neighbors=21, p=2; total time=   0.1s\n",
      "[CV] END ................................n_neighbors=21, p=2; total time=   0.1s\n",
      "[CV] END ................................n_neighbors=21, p=2; total time=   0.0s\n",
      "[CV] END ................................n_neighbors=21, p=3; total time=   0.1s\n",
      "[CV] END ................................n_neighbors=21, p=3; total time=   0.1s\n",
      "[CV] END ................................n_neighbors=21, p=3; total time=   0.1s\n",
      "[CV] END ................................n_neighbors=21, p=3; total time=   0.1s\n",
      "[CV] END ................................n_neighbors=21, p=3; total time=   0.1s\n",
      "[CV] END ................................n_neighbors=21, p=3; total time=   0.1s\n",
      "[CV] END ................................n_neighbors=21, p=3; total time=   0.1s\n",
      "[CV] END ................................n_neighbors=21, p=3; total time=   0.1s\n",
      "[CV] END ................................n_neighbors=21, p=3; total time=   0.1s\n",
      "[CV] END ................................n_neighbors=21, p=3; total time=   0.1s\n",
      "[CV] END ................................n_neighbors=21, p=4; total time=   0.1s\n",
      "[CV] END ................................n_neighbors=21, p=4; total time=   0.2s\n",
      "[CV] END ................................n_neighbors=21, p=4; total time=   0.1s\n",
      "[CV] END ................................n_neighbors=21, p=4; total time=   0.1s\n",
      "[CV] END ................................n_neighbors=21, p=4; total time=   0.1s\n",
      "[CV] END ................................n_neighbors=21, p=4; total time=   0.1s\n",
      "[CV] END ................................n_neighbors=21, p=4; total time=   0.1s\n",
      "[CV] END ................................n_neighbors=21, p=4; total time=   0.1s\n",
      "[CV] END ................................n_neighbors=21, p=4; total time=   0.1s\n",
      "[CV] END ................................n_neighbors=21, p=4; total time=   0.1s\n",
      "[CV] END ................................n_neighbors=21, p=5; total time=   0.1s\n",
      "[CV] END ................................n_neighbors=21, p=5; total time=   0.1s\n",
      "[CV] END ................................n_neighbors=21, p=5; total time=   0.1s\n",
      "[CV] END ................................n_neighbors=21, p=5; total time=   0.1s\n",
      "[CV] END ................................n_neighbors=21, p=5; total time=   0.1s\n",
      "[CV] END ................................n_neighbors=21, p=5; total time=   0.1s\n",
      "[CV] END ................................n_neighbors=21, p=5; total time=   0.1s\n",
      "[CV] END ................................n_neighbors=21, p=5; total time=   0.1s\n",
      "[CV] END ................................n_neighbors=21, p=5; total time=   0.1s\n",
      "[CV] END ................................n_neighbors=21, p=5; total time=   0.1s\n",
      "[CV] END ................................n_neighbors=23, p=1; total time=   0.0s\n",
      "[CV] END ................................n_neighbors=23, p=1; total time=   0.1s\n",
      "[CV] END ................................n_neighbors=23, p=1; total time=   0.0s\n",
      "[CV] END ................................n_neighbors=23, p=1; total time=   0.0s\n",
      "[CV] END ................................n_neighbors=23, p=1; total time=   0.0s\n",
      "[CV] END ................................n_neighbors=23, p=1; total time=   0.0s\n",
      "[CV] END ................................n_neighbors=23, p=1; total time=   0.1s\n",
      "[CV] END ................................n_neighbors=23, p=1; total time=   0.1s\n",
      "[CV] END ................................n_neighbors=23, p=1; total time=   0.0s\n",
      "[CV] END ................................n_neighbors=23, p=1; total time=   0.0s\n",
      "[CV] END ................................n_neighbors=23, p=2; total time=   0.1s\n",
      "[CV] END ................................n_neighbors=23, p=2; total time=   0.1s\n"
     ]
    },
    {
     "name": "stdout",
     "output_type": "stream",
     "text": [
      "[CV] END ................................n_neighbors=23, p=2; total time=   0.1s\n",
      "[CV] END ................................n_neighbors=23, p=2; total time=   0.1s\n",
      "[CV] END ................................n_neighbors=23, p=2; total time=   0.1s\n",
      "[CV] END ................................n_neighbors=23, p=2; total time=   0.1s\n",
      "[CV] END ................................n_neighbors=23, p=2; total time=   0.1s\n",
      "[CV] END ................................n_neighbors=23, p=2; total time=   0.1s\n",
      "[CV] END ................................n_neighbors=23, p=2; total time=   0.1s\n",
      "[CV] END ................................n_neighbors=23, p=2; total time=   0.1s\n",
      "[CV] END ................................n_neighbors=23, p=3; total time=   0.1s\n",
      "[CV] END ................................n_neighbors=23, p=3; total time=   0.1s\n",
      "[CV] END ................................n_neighbors=23, p=3; total time=   0.1s\n",
      "[CV] END ................................n_neighbors=23, p=3; total time=   0.1s\n",
      "[CV] END ................................n_neighbors=23, p=3; total time=   0.1s\n",
      "[CV] END ................................n_neighbors=23, p=3; total time=   0.1s\n",
      "[CV] END ................................n_neighbors=23, p=3; total time=   0.2s\n",
      "[CV] END ................................n_neighbors=23, p=3; total time=   0.1s\n",
      "[CV] END ................................n_neighbors=23, p=3; total time=   0.1s\n",
      "[CV] END ................................n_neighbors=23, p=3; total time=   0.1s\n",
      "[CV] END ................................n_neighbors=23, p=4; total time=   0.1s\n",
      "[CV] END ................................n_neighbors=23, p=4; total time=   0.1s\n",
      "[CV] END ................................n_neighbors=23, p=4; total time=   0.1s\n",
      "[CV] END ................................n_neighbors=23, p=4; total time=   0.1s\n",
      "[CV] END ................................n_neighbors=23, p=4; total time=   0.1s\n",
      "[CV] END ................................n_neighbors=23, p=4; total time=   0.1s\n",
      "[CV] END ................................n_neighbors=23, p=4; total time=   0.1s\n",
      "[CV] END ................................n_neighbors=23, p=4; total time=   0.1s\n",
      "[CV] END ................................n_neighbors=23, p=4; total time=   0.1s\n",
      "[CV] END ................................n_neighbors=23, p=4; total time=   0.1s\n",
      "[CV] END ................................n_neighbors=23, p=5; total time=   0.1s\n",
      "[CV] END ................................n_neighbors=23, p=5; total time=   0.1s\n",
      "[CV] END ................................n_neighbors=23, p=5; total time=   0.1s\n",
      "[CV] END ................................n_neighbors=23, p=5; total time=   0.1s\n",
      "[CV] END ................................n_neighbors=23, p=5; total time=   0.1s\n",
      "[CV] END ................................n_neighbors=23, p=5; total time=   0.1s\n",
      "[CV] END ................................n_neighbors=23, p=5; total time=   0.1s\n",
      "[CV] END ................................n_neighbors=23, p=5; total time=   0.1s\n",
      "[CV] END ................................n_neighbors=23, p=5; total time=   0.1s\n",
      "[CV] END ................................n_neighbors=23, p=5; total time=   0.1s\n",
      "[CV] END ................................n_neighbors=25, p=1; total time=   0.0s\n",
      "[CV] END ................................n_neighbors=25, p=1; total time=   0.0s\n",
      "[CV] END ................................n_neighbors=25, p=1; total time=   0.1s\n",
      "[CV] END ................................n_neighbors=25, p=1; total time=   0.0s\n",
      "[CV] END ................................n_neighbors=25, p=1; total time=   0.0s\n",
      "[CV] END ................................n_neighbors=25, p=1; total time=   0.1s\n",
      "[CV] END ................................n_neighbors=25, p=1; total time=   0.0s\n",
      "[CV] END ................................n_neighbors=25, p=1; total time=   0.1s\n",
      "[CV] END ................................n_neighbors=25, p=1; total time=   0.0s\n",
      "[CV] END ................................n_neighbors=25, p=1; total time=   0.0s\n",
      "[CV] END ................................n_neighbors=25, p=2; total time=   0.0s\n",
      "[CV] END ................................n_neighbors=25, p=2; total time=   0.1s\n",
      "[CV] END ................................n_neighbors=25, p=2; total time=   0.1s\n",
      "[CV] END ................................n_neighbors=25, p=2; total time=   0.1s\n",
      "[CV] END ................................n_neighbors=25, p=2; total time=   0.1s\n",
      "[CV] END ................................n_neighbors=25, p=2; total time=   0.1s\n",
      "[CV] END ................................n_neighbors=25, p=2; total time=   0.0s\n",
      "[CV] END ................................n_neighbors=25, p=2; total time=   0.1s\n",
      "[CV] END ................................n_neighbors=25, p=2; total time=   0.1s\n",
      "[CV] END ................................n_neighbors=25, p=2; total time=   0.1s\n",
      "[CV] END ................................n_neighbors=25, p=3; total time=   0.1s\n",
      "[CV] END ................................n_neighbors=25, p=3; total time=   0.1s\n",
      "[CV] END ................................n_neighbors=25, p=3; total time=   0.1s\n",
      "[CV] END ................................n_neighbors=25, p=3; total time=   0.1s\n",
      "[CV] END ................................n_neighbors=25, p=3; total time=   0.1s\n",
      "[CV] END ................................n_neighbors=25, p=3; total time=   0.1s\n",
      "[CV] END ................................n_neighbors=25, p=3; total time=   0.1s\n",
      "[CV] END ................................n_neighbors=25, p=3; total time=   0.1s\n",
      "[CV] END ................................n_neighbors=25, p=3; total time=   0.1s\n",
      "[CV] END ................................n_neighbors=25, p=3; total time=   0.1s\n",
      "[CV] END ................................n_neighbors=25, p=4; total time=   0.1s\n",
      "[CV] END ................................n_neighbors=25, p=4; total time=   0.1s\n",
      "[CV] END ................................n_neighbors=25, p=4; total time=   0.1s\n",
      "[CV] END ................................n_neighbors=25, p=4; total time=   0.1s\n",
      "[CV] END ................................n_neighbors=25, p=4; total time=   0.1s\n",
      "[CV] END ................................n_neighbors=25, p=4; total time=   0.1s\n",
      "[CV] END ................................n_neighbors=25, p=4; total time=   0.1s\n",
      "[CV] END ................................n_neighbors=25, p=4; total time=   0.2s\n",
      "[CV] END ................................n_neighbors=25, p=4; total time=   0.1s\n",
      "[CV] END ................................n_neighbors=25, p=4; total time=   0.1s\n",
      "[CV] END ................................n_neighbors=25, p=5; total time=   0.1s\n",
      "[CV] END ................................n_neighbors=25, p=5; total time=   0.1s\n",
      "[CV] END ................................n_neighbors=25, p=5; total time=   0.1s\n",
      "[CV] END ................................n_neighbors=25, p=5; total time=   0.1s\n",
      "[CV] END ................................n_neighbors=25, p=5; total time=   0.1s\n",
      "[CV] END ................................n_neighbors=25, p=5; total time=   0.1s\n",
      "[CV] END ................................n_neighbors=25, p=5; total time=   0.1s\n",
      "[CV] END ................................n_neighbors=25, p=5; total time=   0.1s\n",
      "[CV] END ................................n_neighbors=25, p=5; total time=   0.1s\n",
      "[CV] END ................................n_neighbors=25, p=5; total time=   0.1s\n"
     ]
    },
    {
     "data": {
      "text/html": [
       "<style>#sk-container-id-4 {color: black;background-color: white;}#sk-container-id-4 pre{padding: 0;}#sk-container-id-4 div.sk-toggleable {background-color: white;}#sk-container-id-4 label.sk-toggleable__label {cursor: pointer;display: block;width: 100%;margin-bottom: 0;padding: 0.3em;box-sizing: border-box;text-align: center;}#sk-container-id-4 label.sk-toggleable__label-arrow:before {content: \"▸\";float: left;margin-right: 0.25em;color: #696969;}#sk-container-id-4 label.sk-toggleable__label-arrow:hover:before {color: black;}#sk-container-id-4 div.sk-estimator:hover label.sk-toggleable__label-arrow:before {color: black;}#sk-container-id-4 div.sk-toggleable__content {max-height: 0;max-width: 0;overflow: hidden;text-align: left;background-color: #f0f8ff;}#sk-container-id-4 div.sk-toggleable__content pre {margin: 0.2em;color: black;border-radius: 0.25em;background-color: #f0f8ff;}#sk-container-id-4 input.sk-toggleable__control:checked~div.sk-toggleable__content {max-height: 200px;max-width: 100%;overflow: auto;}#sk-container-id-4 input.sk-toggleable__control:checked~label.sk-toggleable__label-arrow:before {content: \"▾\";}#sk-container-id-4 div.sk-estimator input.sk-toggleable__control:checked~label.sk-toggleable__label {background-color: #d4ebff;}#sk-container-id-4 div.sk-label input.sk-toggleable__control:checked~label.sk-toggleable__label {background-color: #d4ebff;}#sk-container-id-4 input.sk-hidden--visually {border: 0;clip: rect(1px 1px 1px 1px);clip: rect(1px, 1px, 1px, 1px);height: 1px;margin: -1px;overflow: hidden;padding: 0;position: absolute;width: 1px;}#sk-container-id-4 div.sk-estimator {font-family: monospace;background-color: #f0f8ff;border: 1px dotted black;border-radius: 0.25em;box-sizing: border-box;margin-bottom: 0.5em;}#sk-container-id-4 div.sk-estimator:hover {background-color: #d4ebff;}#sk-container-id-4 div.sk-parallel-item::after {content: \"\";width: 100%;border-bottom: 1px solid gray;flex-grow: 1;}#sk-container-id-4 div.sk-label:hover label.sk-toggleable__label {background-color: #d4ebff;}#sk-container-id-4 div.sk-serial::before {content: \"\";position: absolute;border-left: 1px solid gray;box-sizing: border-box;top: 0;bottom: 0;left: 50%;z-index: 0;}#sk-container-id-4 div.sk-serial {display: flex;flex-direction: column;align-items: center;background-color: white;padding-right: 0.2em;padding-left: 0.2em;position: relative;}#sk-container-id-4 div.sk-item {position: relative;z-index: 1;}#sk-container-id-4 div.sk-parallel {display: flex;align-items: stretch;justify-content: center;background-color: white;position: relative;}#sk-container-id-4 div.sk-item::before, #sk-container-id-4 div.sk-parallel-item::before {content: \"\";position: absolute;border-left: 1px solid gray;box-sizing: border-box;top: 0;bottom: 0;left: 50%;z-index: -1;}#sk-container-id-4 div.sk-parallel-item {display: flex;flex-direction: column;z-index: 1;position: relative;background-color: white;}#sk-container-id-4 div.sk-parallel-item:first-child::after {align-self: flex-end;width: 50%;}#sk-container-id-4 div.sk-parallel-item:last-child::after {align-self: flex-start;width: 50%;}#sk-container-id-4 div.sk-parallel-item:only-child::after {width: 0;}#sk-container-id-4 div.sk-dashed-wrapped {border: 1px dashed gray;margin: 0 0.4em 0.5em 0.4em;box-sizing: border-box;padding-bottom: 0.4em;background-color: white;}#sk-container-id-4 div.sk-label label {font-family: monospace;font-weight: bold;display: inline-block;line-height: 1.2em;}#sk-container-id-4 div.sk-label-container {text-align: center;}#sk-container-id-4 div.sk-container {/* jupyter's `normalize.less` sets `[hidden] { display: none; }` but bootstrap.min.css set `[hidden] { display: none !important; }` so we also need the `!important` here to be able to override the default hidden behavior on the sphinx rendered scikit-learn.org. See: https://github.com/scikit-learn/scikit-learn/issues/21755 */display: inline-block !important;position: relative;}#sk-container-id-4 div.sk-text-repr-fallback {display: none;}</style><div id=\"sk-container-id-4\" class=\"sk-top-container\"><div class=\"sk-text-repr-fallback\"><pre>GridSearchCV(cv=10, estimator=KNeighborsClassifier(), n_jobs=1,\n",
       "             param_grid={&#x27;n_neighbors&#x27;: [3, 5, 7, 9, 11, 13, 15, 17, 19, 21, 23,\n",
       "                                         25],\n",
       "                         &#x27;p&#x27;: [1, 2, 3, 4, 5]},\n",
       "             verbose=2)</pre><b>In a Jupyter environment, please rerun this cell to show the HTML representation or trust the notebook. <br />On GitHub, the HTML representation is unable to render, please try loading this page with nbviewer.org.</b></div><div class=\"sk-container\" hidden><div class=\"sk-item sk-dashed-wrapped\"><div class=\"sk-label-container\"><div class=\"sk-label sk-toggleable\"><input class=\"sk-toggleable__control sk-hidden--visually\" id=\"sk-estimator-id-4\" type=\"checkbox\" ><label for=\"sk-estimator-id-4\" class=\"sk-toggleable__label sk-toggleable__label-arrow\">GridSearchCV</label><div class=\"sk-toggleable__content\"><pre>GridSearchCV(cv=10, estimator=KNeighborsClassifier(), n_jobs=1,\n",
       "             param_grid={&#x27;n_neighbors&#x27;: [3, 5, 7, 9, 11, 13, 15, 17, 19, 21, 23,\n",
       "                                         25],\n",
       "                         &#x27;p&#x27;: [1, 2, 3, 4, 5]},\n",
       "             verbose=2)</pre></div></div></div><div class=\"sk-parallel\"><div class=\"sk-parallel-item\"><div class=\"sk-item\"><div class=\"sk-label-container\"><div class=\"sk-label sk-toggleable\"><input class=\"sk-toggleable__control sk-hidden--visually\" id=\"sk-estimator-id-5\" type=\"checkbox\" ><label for=\"sk-estimator-id-5\" class=\"sk-toggleable__label sk-toggleable__label-arrow\">estimator: KNeighborsClassifier</label><div class=\"sk-toggleable__content\"><pre>KNeighborsClassifier()</pre></div></div></div><div class=\"sk-serial\"><div class=\"sk-item\"><div class=\"sk-estimator sk-toggleable\"><input class=\"sk-toggleable__control sk-hidden--visually\" id=\"sk-estimator-id-6\" type=\"checkbox\" ><label for=\"sk-estimator-id-6\" class=\"sk-toggleable__label sk-toggleable__label-arrow\">KNeighborsClassifier</label><div class=\"sk-toggleable__content\"><pre>KNeighborsClassifier()</pre></div></div></div></div></div></div></div></div></div></div>"
      ],
      "text/plain": [
       "GridSearchCV(cv=10, estimator=KNeighborsClassifier(), n_jobs=1,\n",
       "             param_grid={'n_neighbors': [3, 5, 7, 9, 11, 13, 15, 17, 19, 21, 23,\n",
       "                                         25],\n",
       "                         'p': [1, 2, 3, 4, 5]},\n",
       "             verbose=2)"
      ]
     },
     "execution_count": 19,
     "metadata": {},
     "output_type": "execute_result"
    }
   ],
   "source": [
    "parameter={\"n_neighbors\":[3,5,7,9,11,13,15,17,19,21,23,25],\n",
    "          \"p\":[1,2,3,4,5]}\n",
    "\n",
    "knn_search=KNeighborsClassifier()\n",
    "knn_grid=GridSearchCV(estimator=knn_search, param_grid=parameter, cv=10, n_jobs=1, verbose=2, refit=True)\n",
    "knn_grid.fit(x_train, y_train)"
   ]
  },
  {
   "cell_type": "code",
   "execution_count": 53,
   "id": "f3545a69",
   "metadata": {},
   "outputs": [],
   "source": [
    "pd.DataFrame(knn_grid.cv_results_).to_csv(\"CV_results.csv\")"
   ]
  },
  {
   "cell_type": "code",
   "execution_count": 20,
   "id": "a17f35f4",
   "metadata": {},
   "outputs": [
    {
     "data": {
      "text/plain": [
       "'D:\\\\Training\\\\CareerEra\\\\Batch-Masters\\\\KNN\\\\Mobile Price Range Prediction\\\\Dataset'"
      ]
     },
     "execution_count": 20,
     "metadata": {},
     "output_type": "execute_result"
    }
   ],
   "source": [
    "os.getcwd()"
   ]
  },
  {
   "cell_type": "code",
   "execution_count": 21,
   "id": "edf322ff",
   "metadata": {},
   "outputs": [
    {
     "data": {
      "text/plain": [
       "0.930625"
      ]
     },
     "execution_count": 21,
     "metadata": {},
     "output_type": "execute_result"
    }
   ],
   "source": [
    "knn_grid.best_score_"
   ]
  },
  {
   "cell_type": "code",
   "execution_count": 22,
   "id": "cf12242a",
   "metadata": {},
   "outputs": [
    {
     "data": {
      "text/plain": [
       "{'n_neighbors': 13, 'p': 4}"
      ]
     },
     "execution_count": 22,
     "metadata": {},
     "output_type": "execute_result"
    }
   ],
   "source": [
    "knn_grid.best_params_"
   ]
  },
  {
   "cell_type": "code",
   "execution_count": 23,
   "id": "1f08c393",
   "metadata": {},
   "outputs": [
    {
     "data": {
      "text/html": [
       "<style>#sk-container-id-5 {color: black;background-color: white;}#sk-container-id-5 pre{padding: 0;}#sk-container-id-5 div.sk-toggleable {background-color: white;}#sk-container-id-5 label.sk-toggleable__label {cursor: pointer;display: block;width: 100%;margin-bottom: 0;padding: 0.3em;box-sizing: border-box;text-align: center;}#sk-container-id-5 label.sk-toggleable__label-arrow:before {content: \"▸\";float: left;margin-right: 0.25em;color: #696969;}#sk-container-id-5 label.sk-toggleable__label-arrow:hover:before {color: black;}#sk-container-id-5 div.sk-estimator:hover label.sk-toggleable__label-arrow:before {color: black;}#sk-container-id-5 div.sk-toggleable__content {max-height: 0;max-width: 0;overflow: hidden;text-align: left;background-color: #f0f8ff;}#sk-container-id-5 div.sk-toggleable__content pre {margin: 0.2em;color: black;border-radius: 0.25em;background-color: #f0f8ff;}#sk-container-id-5 input.sk-toggleable__control:checked~div.sk-toggleable__content {max-height: 200px;max-width: 100%;overflow: auto;}#sk-container-id-5 input.sk-toggleable__control:checked~label.sk-toggleable__label-arrow:before {content: \"▾\";}#sk-container-id-5 div.sk-estimator input.sk-toggleable__control:checked~label.sk-toggleable__label {background-color: #d4ebff;}#sk-container-id-5 div.sk-label input.sk-toggleable__control:checked~label.sk-toggleable__label {background-color: #d4ebff;}#sk-container-id-5 input.sk-hidden--visually {border: 0;clip: rect(1px 1px 1px 1px);clip: rect(1px, 1px, 1px, 1px);height: 1px;margin: -1px;overflow: hidden;padding: 0;position: absolute;width: 1px;}#sk-container-id-5 div.sk-estimator {font-family: monospace;background-color: #f0f8ff;border: 1px dotted black;border-radius: 0.25em;box-sizing: border-box;margin-bottom: 0.5em;}#sk-container-id-5 div.sk-estimator:hover {background-color: #d4ebff;}#sk-container-id-5 div.sk-parallel-item::after {content: \"\";width: 100%;border-bottom: 1px solid gray;flex-grow: 1;}#sk-container-id-5 div.sk-label:hover label.sk-toggleable__label {background-color: #d4ebff;}#sk-container-id-5 div.sk-serial::before {content: \"\";position: absolute;border-left: 1px solid gray;box-sizing: border-box;top: 0;bottom: 0;left: 50%;z-index: 0;}#sk-container-id-5 div.sk-serial {display: flex;flex-direction: column;align-items: center;background-color: white;padding-right: 0.2em;padding-left: 0.2em;position: relative;}#sk-container-id-5 div.sk-item {position: relative;z-index: 1;}#sk-container-id-5 div.sk-parallel {display: flex;align-items: stretch;justify-content: center;background-color: white;position: relative;}#sk-container-id-5 div.sk-item::before, #sk-container-id-5 div.sk-parallel-item::before {content: \"\";position: absolute;border-left: 1px solid gray;box-sizing: border-box;top: 0;bottom: 0;left: 50%;z-index: -1;}#sk-container-id-5 div.sk-parallel-item {display: flex;flex-direction: column;z-index: 1;position: relative;background-color: white;}#sk-container-id-5 div.sk-parallel-item:first-child::after {align-self: flex-end;width: 50%;}#sk-container-id-5 div.sk-parallel-item:last-child::after {align-self: flex-start;width: 50%;}#sk-container-id-5 div.sk-parallel-item:only-child::after {width: 0;}#sk-container-id-5 div.sk-dashed-wrapped {border: 1px dashed gray;margin: 0 0.4em 0.5em 0.4em;box-sizing: border-box;padding-bottom: 0.4em;background-color: white;}#sk-container-id-5 div.sk-label label {font-family: monospace;font-weight: bold;display: inline-block;line-height: 1.2em;}#sk-container-id-5 div.sk-label-container {text-align: center;}#sk-container-id-5 div.sk-container {/* jupyter's `normalize.less` sets `[hidden] { display: none; }` but bootstrap.min.css set `[hidden] { display: none !important; }` so we also need the `!important` here to be able to override the default hidden behavior on the sphinx rendered scikit-learn.org. See: https://github.com/scikit-learn/scikit-learn/issues/21755 */display: inline-block !important;position: relative;}#sk-container-id-5 div.sk-text-repr-fallback {display: none;}</style><div id=\"sk-container-id-5\" class=\"sk-top-container\"><div class=\"sk-text-repr-fallback\"><pre>KNeighborsClassifier(n_neighbors=13, p=4)</pre><b>In a Jupyter environment, please rerun this cell to show the HTML representation or trust the notebook. <br />On GitHub, the HTML representation is unable to render, please try loading this page with nbviewer.org.</b></div><div class=\"sk-container\" hidden><div class=\"sk-item\"><div class=\"sk-estimator sk-toggleable\"><input class=\"sk-toggleable__control sk-hidden--visually\" id=\"sk-estimator-id-7\" type=\"checkbox\" checked><label for=\"sk-estimator-id-7\" class=\"sk-toggleable__label sk-toggleable__label-arrow\">KNeighborsClassifier</label><div class=\"sk-toggleable__content\"><pre>KNeighborsClassifier(n_neighbors=13, p=4)</pre></div></div></div></div></div>"
      ],
      "text/plain": [
       "KNeighborsClassifier(n_neighbors=13, p=4)"
      ]
     },
     "execution_count": 23,
     "metadata": {},
     "output_type": "execute_result"
    }
   ],
   "source": [
    "knn_grid.best_estimator_"
   ]
  },
  {
   "cell_type": "code",
   "execution_count": 24,
   "id": "41c64e1d",
   "metadata": {},
   "outputs": [
    {
     "data": {
      "text/html": [
       "<style>#sk-container-id-6 {color: black;background-color: white;}#sk-container-id-6 pre{padding: 0;}#sk-container-id-6 div.sk-toggleable {background-color: white;}#sk-container-id-6 label.sk-toggleable__label {cursor: pointer;display: block;width: 100%;margin-bottom: 0;padding: 0.3em;box-sizing: border-box;text-align: center;}#sk-container-id-6 label.sk-toggleable__label-arrow:before {content: \"▸\";float: left;margin-right: 0.25em;color: #696969;}#sk-container-id-6 label.sk-toggleable__label-arrow:hover:before {color: black;}#sk-container-id-6 div.sk-estimator:hover label.sk-toggleable__label-arrow:before {color: black;}#sk-container-id-6 div.sk-toggleable__content {max-height: 0;max-width: 0;overflow: hidden;text-align: left;background-color: #f0f8ff;}#sk-container-id-6 div.sk-toggleable__content pre {margin: 0.2em;color: black;border-radius: 0.25em;background-color: #f0f8ff;}#sk-container-id-6 input.sk-toggleable__control:checked~div.sk-toggleable__content {max-height: 200px;max-width: 100%;overflow: auto;}#sk-container-id-6 input.sk-toggleable__control:checked~label.sk-toggleable__label-arrow:before {content: \"▾\";}#sk-container-id-6 div.sk-estimator input.sk-toggleable__control:checked~label.sk-toggleable__label {background-color: #d4ebff;}#sk-container-id-6 div.sk-label input.sk-toggleable__control:checked~label.sk-toggleable__label {background-color: #d4ebff;}#sk-container-id-6 input.sk-hidden--visually {border: 0;clip: rect(1px 1px 1px 1px);clip: rect(1px, 1px, 1px, 1px);height: 1px;margin: -1px;overflow: hidden;padding: 0;position: absolute;width: 1px;}#sk-container-id-6 div.sk-estimator {font-family: monospace;background-color: #f0f8ff;border: 1px dotted black;border-radius: 0.25em;box-sizing: border-box;margin-bottom: 0.5em;}#sk-container-id-6 div.sk-estimator:hover {background-color: #d4ebff;}#sk-container-id-6 div.sk-parallel-item::after {content: \"\";width: 100%;border-bottom: 1px solid gray;flex-grow: 1;}#sk-container-id-6 div.sk-label:hover label.sk-toggleable__label {background-color: #d4ebff;}#sk-container-id-6 div.sk-serial::before {content: \"\";position: absolute;border-left: 1px solid gray;box-sizing: border-box;top: 0;bottom: 0;left: 50%;z-index: 0;}#sk-container-id-6 div.sk-serial {display: flex;flex-direction: column;align-items: center;background-color: white;padding-right: 0.2em;padding-left: 0.2em;position: relative;}#sk-container-id-6 div.sk-item {position: relative;z-index: 1;}#sk-container-id-6 div.sk-parallel {display: flex;align-items: stretch;justify-content: center;background-color: white;position: relative;}#sk-container-id-6 div.sk-item::before, #sk-container-id-6 div.sk-parallel-item::before {content: \"\";position: absolute;border-left: 1px solid gray;box-sizing: border-box;top: 0;bottom: 0;left: 50%;z-index: -1;}#sk-container-id-6 div.sk-parallel-item {display: flex;flex-direction: column;z-index: 1;position: relative;background-color: white;}#sk-container-id-6 div.sk-parallel-item:first-child::after {align-self: flex-end;width: 50%;}#sk-container-id-6 div.sk-parallel-item:last-child::after {align-self: flex-start;width: 50%;}#sk-container-id-6 div.sk-parallel-item:only-child::after {width: 0;}#sk-container-id-6 div.sk-dashed-wrapped {border: 1px dashed gray;margin: 0 0.4em 0.5em 0.4em;box-sizing: border-box;padding-bottom: 0.4em;background-color: white;}#sk-container-id-6 div.sk-label label {font-family: monospace;font-weight: bold;display: inline-block;line-height: 1.2em;}#sk-container-id-6 div.sk-label-container {text-align: center;}#sk-container-id-6 div.sk-container {/* jupyter's `normalize.less` sets `[hidden] { display: none; }` but bootstrap.min.css set `[hidden] { display: none !important; }` so we also need the `!important` here to be able to override the default hidden behavior on the sphinx rendered scikit-learn.org. See: https://github.com/scikit-learn/scikit-learn/issues/21755 */display: inline-block !important;position: relative;}#sk-container-id-6 div.sk-text-repr-fallback {display: none;}</style><div id=\"sk-container-id-6\" class=\"sk-top-container\"><div class=\"sk-text-repr-fallback\"><pre>KNeighborsClassifier(n_neighbors=13, p=4)</pre><b>In a Jupyter environment, please rerun this cell to show the HTML representation or trust the notebook. <br />On GitHub, the HTML representation is unable to render, please try loading this page with nbviewer.org.</b></div><div class=\"sk-container\" hidden><div class=\"sk-item\"><div class=\"sk-estimator sk-toggleable\"><input class=\"sk-toggleable__control sk-hidden--visually\" id=\"sk-estimator-id-8\" type=\"checkbox\" checked><label for=\"sk-estimator-id-8\" class=\"sk-toggleable__label sk-toggleable__label-arrow\">KNeighborsClassifier</label><div class=\"sk-toggleable__content\"><pre>KNeighborsClassifier(n_neighbors=13, p=4)</pre></div></div></div></div></div>"
      ],
      "text/plain": [
       "KNeighborsClassifier(n_neighbors=13, p=4)"
      ]
     },
     "execution_count": 24,
     "metadata": {},
     "output_type": "execute_result"
    }
   ],
   "source": [
    "best_knn=KNeighborsClassifier(n_neighbors=13, p=4)\n",
    "best_knn.fit(x_train, y_train)"
   ]
  },
  {
   "cell_type": "code",
   "execution_count": 25,
   "id": "1640fded",
   "metadata": {},
   "outputs": [
    {
     "name": "stdout",
     "output_type": "stream",
     "text": [
      "Train Score 0.945\n",
      "Test Score 0.915\n"
     ]
    }
   ],
   "source": [
    "print(\"Train Score\", best_knn.score(x_train, y_train))\n",
    "print(\"Test Score\", best_knn.score(x_test, y_test))"
   ]
  },
  {
   "cell_type": "markdown",
   "id": "b668dabd",
   "metadata": {},
   "source": [
    "#### Evaluation of model"
   ]
  },
  {
   "cell_type": "code",
   "execution_count": 26,
   "id": "5e6c3594",
   "metadata": {},
   "outputs": [],
   "source": [
    "pred_train=best_knn.predict(x_train)\n",
    "pred_test=best_knn.predict(x_test)"
   ]
  },
  {
   "cell_type": "code",
   "execution_count": 27,
   "id": "f9456600",
   "metadata": {},
   "outputs": [
    {
     "data": {
      "text/plain": [
       "array([3, 0, 0, ..., 3, 1, 1], dtype=int64)"
      ]
     },
     "execution_count": 27,
     "metadata": {},
     "output_type": "execute_result"
    }
   ],
   "source": [
    "pred_train"
   ]
  },
  {
   "cell_type": "code",
   "execution_count": 28,
   "id": "e8ee63aa",
   "metadata": {},
   "outputs": [
    {
     "data": {
      "text/plain": [
       "231     3\n",
       "1016    0\n",
       "1035    0\n",
       "1490    1\n",
       "834     3\n",
       "       ..\n",
       "613     0\n",
       "916     0\n",
       "362     3\n",
       "433     1\n",
       "288     1\n",
       "Name: price_range, Length: 1600, dtype: int64"
      ]
     },
     "execution_count": 28,
     "metadata": {},
     "output_type": "execute_result"
    }
   ],
   "source": [
    "y_train"
   ]
  },
  {
   "cell_type": "code",
   "execution_count": 29,
   "id": "3b3a7fa9",
   "metadata": {},
   "outputs": [
    {
     "data": {
      "text/html": [
       "<div>\n",
       "<style scoped>\n",
       "    .dataframe tbody tr th:only-of-type {\n",
       "        vertical-align: middle;\n",
       "    }\n",
       "\n",
       "    .dataframe tbody tr th {\n",
       "        vertical-align: top;\n",
       "    }\n",
       "\n",
       "    .dataframe thead th {\n",
       "        text-align: right;\n",
       "    }\n",
       "</style>\n",
       "<table border=\"1\" class=\"dataframe\">\n",
       "  <thead>\n",
       "    <tr style=\"text-align: right;\">\n",
       "      <th></th>\n",
       "      <th>prob0</th>\n",
       "      <th>prob1</th>\n",
       "      <th>prob2</th>\n",
       "      <th>prob3</th>\n",
       "    </tr>\n",
       "  </thead>\n",
       "  <tbody>\n",
       "    <tr>\n",
       "      <th>0</th>\n",
       "      <td>0.000000</td>\n",
       "      <td>0.000000</td>\n",
       "      <td>0.000000</td>\n",
       "      <td>1.000000</td>\n",
       "    </tr>\n",
       "    <tr>\n",
       "      <th>1</th>\n",
       "      <td>0.615385</td>\n",
       "      <td>0.384615</td>\n",
       "      <td>0.000000</td>\n",
       "      <td>0.000000</td>\n",
       "    </tr>\n",
       "    <tr>\n",
       "      <th>2</th>\n",
       "      <td>1.000000</td>\n",
       "      <td>0.000000</td>\n",
       "      <td>0.000000</td>\n",
       "      <td>0.000000</td>\n",
       "    </tr>\n",
       "    <tr>\n",
       "      <th>3</th>\n",
       "      <td>0.000000</td>\n",
       "      <td>0.846154</td>\n",
       "      <td>0.153846</td>\n",
       "      <td>0.000000</td>\n",
       "    </tr>\n",
       "    <tr>\n",
       "      <th>4</th>\n",
       "      <td>0.000000</td>\n",
       "      <td>0.000000</td>\n",
       "      <td>0.153846</td>\n",
       "      <td>0.846154</td>\n",
       "    </tr>\n",
       "    <tr>\n",
       "      <th>...</th>\n",
       "      <td>...</td>\n",
       "      <td>...</td>\n",
       "      <td>...</td>\n",
       "      <td>...</td>\n",
       "    </tr>\n",
       "    <tr>\n",
       "      <th>1595</th>\n",
       "      <td>0.692308</td>\n",
       "      <td>0.307692</td>\n",
       "      <td>0.000000</td>\n",
       "      <td>0.000000</td>\n",
       "    </tr>\n",
       "    <tr>\n",
       "      <th>1596</th>\n",
       "      <td>1.000000</td>\n",
       "      <td>0.000000</td>\n",
       "      <td>0.000000</td>\n",
       "      <td>0.000000</td>\n",
       "    </tr>\n",
       "    <tr>\n",
       "      <th>1597</th>\n",
       "      <td>0.000000</td>\n",
       "      <td>0.000000</td>\n",
       "      <td>0.000000</td>\n",
       "      <td>1.000000</td>\n",
       "    </tr>\n",
       "    <tr>\n",
       "      <th>1598</th>\n",
       "      <td>0.384615</td>\n",
       "      <td>0.615385</td>\n",
       "      <td>0.000000</td>\n",
       "      <td>0.000000</td>\n",
       "    </tr>\n",
       "    <tr>\n",
       "      <th>1599</th>\n",
       "      <td>0.230769</td>\n",
       "      <td>0.769231</td>\n",
       "      <td>0.000000</td>\n",
       "      <td>0.000000</td>\n",
       "    </tr>\n",
       "  </tbody>\n",
       "</table>\n",
       "<p>1600 rows × 4 columns</p>\n",
       "</div>"
      ],
      "text/plain": [
       "         prob0     prob1     prob2     prob3\n",
       "0     0.000000  0.000000  0.000000  1.000000\n",
       "1     0.615385  0.384615  0.000000  0.000000\n",
       "2     1.000000  0.000000  0.000000  0.000000\n",
       "3     0.000000  0.846154  0.153846  0.000000\n",
       "4     0.000000  0.000000  0.153846  0.846154\n",
       "...        ...       ...       ...       ...\n",
       "1595  0.692308  0.307692  0.000000  0.000000\n",
       "1596  1.000000  0.000000  0.000000  0.000000\n",
       "1597  0.000000  0.000000  0.000000  1.000000\n",
       "1598  0.384615  0.615385  0.000000  0.000000\n",
       "1599  0.230769  0.769231  0.000000  0.000000\n",
       "\n",
       "[1600 rows x 4 columns]"
      ]
     },
     "execution_count": 29,
     "metadata": {},
     "output_type": "execute_result"
    }
   ],
   "source": [
    "pd.DataFrame(best_knn.predict_proba(x_train), columns=[\"prob0\", \"prob1\", \"prob2\", \"prob3\"])"
   ]
  },
  {
   "cell_type": "code",
   "execution_count": 30,
   "id": "aae24c13",
   "metadata": {},
   "outputs": [
    {
     "data": {
      "text/html": [
       "<div>\n",
       "<style scoped>\n",
       "    .dataframe tbody tr th:only-of-type {\n",
       "        vertical-align: middle;\n",
       "    }\n",
       "\n",
       "    .dataframe tbody tr th {\n",
       "        vertical-align: top;\n",
       "    }\n",
       "\n",
       "    .dataframe thead th {\n",
       "        text-align: right;\n",
       "    }\n",
       "</style>\n",
       "<table border=\"1\" class=\"dataframe\">\n",
       "  <thead>\n",
       "    <tr style=\"text-align: right;\">\n",
       "      <th></th>\n",
       "      <th>pred0</th>\n",
       "      <th>pred1</th>\n",
       "      <th>pred2</th>\n",
       "      <th>pred3</th>\n",
       "    </tr>\n",
       "  </thead>\n",
       "  <tbody>\n",
       "    <tr>\n",
       "      <th>act0</th>\n",
       "      <td>391</td>\n",
       "      <td>9</td>\n",
       "      <td>0</td>\n",
       "      <td>0</td>\n",
       "    </tr>\n",
       "    <tr>\n",
       "      <th>act1</th>\n",
       "      <td>15</td>\n",
       "      <td>375</td>\n",
       "      <td>9</td>\n",
       "      <td>0</td>\n",
       "    </tr>\n",
       "    <tr>\n",
       "      <th>act2</th>\n",
       "      <td>0</td>\n",
       "      <td>22</td>\n",
       "      <td>371</td>\n",
       "      <td>11</td>\n",
       "    </tr>\n",
       "    <tr>\n",
       "      <th>act3</th>\n",
       "      <td>0</td>\n",
       "      <td>0</td>\n",
       "      <td>22</td>\n",
       "      <td>375</td>\n",
       "    </tr>\n",
       "  </tbody>\n",
       "</table>\n",
       "</div>"
      ],
      "text/plain": [
       "      pred0  pred1  pred2  pred3\n",
       "act0    391      9      0      0\n",
       "act1     15    375      9      0\n",
       "act2      0     22    371     11\n",
       "act3      0      0     22    375"
      ]
     },
     "execution_count": 30,
     "metadata": {},
     "output_type": "execute_result"
    }
   ],
   "source": [
    "pd.DataFrame(metrics.confusion_matrix(y_train, pred_train), \n",
    "             columns=[\"pred0\",\"pred1\", \"pred2\",\"pred3\"],\n",
    "             index=[\"act0\", \"act1\", \"act2\",\"act3\"]) "
   ]
  },
  {
   "cell_type": "code",
   "execution_count": 31,
   "id": "8633c08c",
   "metadata": {},
   "outputs": [
    {
     "name": "stdout",
     "output_type": "stream",
     "text": [
      "              precision    recall  f1-score   support\n",
      "\n",
      "           0       0.96      0.98      0.97       400\n",
      "           1       0.92      0.94      0.93       399\n",
      "           2       0.92      0.92      0.92       404\n",
      "           3       0.97      0.94      0.96       397\n",
      "\n",
      "    accuracy                           0.94      1600\n",
      "   macro avg       0.95      0.95      0.95      1600\n",
      "weighted avg       0.95      0.94      0.95      1600\n",
      "\n"
     ]
    }
   ],
   "source": [
    "print(metrics.classification_report(y_train, pred_train))"
   ]
  },
  {
   "cell_type": "code",
   "execution_count": 64,
   "id": "a1c394cf",
   "metadata": {},
   "outputs": [
    {
     "data": {
      "text/plain": [
       "0.945"
      ]
     },
     "execution_count": 64,
     "metadata": {},
     "output_type": "execute_result"
    }
   ],
   "source": [
    "(.98+.94+.92+.94)/4  # - Macro avg Recall"
   ]
  },
  {
   "cell_type": "code",
   "execution_count": 66,
   "id": "d57e0bfb",
   "metadata": {},
   "outputs": [
    {
     "data": {
      "text/plain": [
       "0.9449500000000001"
      ]
     },
     "execution_count": 66,
     "metadata": {},
     "output_type": "execute_result"
    }
   ],
   "source": [
    "(.98*400+.94*399+.92*404+.94*397)/ (400+399+404+397)  # Weighted avg Recall"
   ]
  },
  {
   "cell_type": "code",
   "execution_count": 32,
   "id": "9ef53172",
   "metadata": {},
   "outputs": [
    {
     "name": "stdout",
     "output_type": "stream",
     "text": [
      "              precision    recall  f1-score   support\n",
      "\n",
      "           0       0.94      0.98      0.96       100\n",
      "           1       0.92      0.89      0.90       101\n",
      "           2       0.85      0.89      0.87        96\n",
      "           3       0.95      0.90      0.93       103\n",
      "\n",
      "    accuracy                           0.92       400\n",
      "   macro avg       0.91      0.91      0.91       400\n",
      "weighted avg       0.92      0.92      0.92       400\n",
      "\n"
     ]
    }
   ],
   "source": [
    "print(metrics.classification_report(y_test, pred_test))"
   ]
  },
  {
   "cell_type": "code",
   "execution_count": 60,
   "id": "6b59d20e",
   "metadata": {},
   "outputs": [],
   "source": [
    "# we can not create ROC, AUC for multiclass Problem "
   ]
  },
  {
   "cell_type": "code",
   "execution_count": 33,
   "id": "34cb5d57",
   "metadata": {},
   "outputs": [],
   "source": [
    "new=pd.read_excel(\"NewMobile.xlsx\")"
   ]
  },
  {
   "cell_type": "code",
   "execution_count": 34,
   "id": "09d1a6a6",
   "metadata": {},
   "outputs": [
    {
     "data": {
      "text/plain": [
       "array([1, 3, 1, 0], dtype=int64)"
      ]
     },
     "execution_count": 34,
     "metadata": {},
     "output_type": "execute_result"
    }
   ],
   "source": [
    "best_knn.predict(new)"
   ]
  },
  {
   "cell_type": "code",
   "execution_count": 35,
   "id": "d82d12a5",
   "metadata": {},
   "outputs": [
    {
     "data": {
      "text/html": [
       "<div>\n",
       "<style scoped>\n",
       "    .dataframe tbody tr th:only-of-type {\n",
       "        vertical-align: middle;\n",
       "    }\n",
       "\n",
       "    .dataframe tbody tr th {\n",
       "        vertical-align: top;\n",
       "    }\n",
       "\n",
       "    .dataframe thead th {\n",
       "        text-align: right;\n",
       "    }\n",
       "</style>\n",
       "<table border=\"1\" class=\"dataframe\">\n",
       "  <thead>\n",
       "    <tr style=\"text-align: right;\">\n",
       "      <th></th>\n",
       "      <th>battery_power</th>\n",
       "      <th>blue</th>\n",
       "      <th>clock_speed</th>\n",
       "      <th>dual_sim</th>\n",
       "      <th>fc</th>\n",
       "      <th>four_g</th>\n",
       "      <th>int_memory</th>\n",
       "      <th>m_dep</th>\n",
       "      <th>mobile_wt</th>\n",
       "      <th>n_cores</th>\n",
       "      <th>pc</th>\n",
       "      <th>px_height</th>\n",
       "      <th>px_width</th>\n",
       "      <th>ram</th>\n",
       "      <th>sc_h</th>\n",
       "      <th>sc_w</th>\n",
       "      <th>talk_time</th>\n",
       "      <th>three_g</th>\n",
       "      <th>touch_screen</th>\n",
       "      <th>wifi</th>\n",
       "    </tr>\n",
       "  </thead>\n",
       "  <tbody>\n",
       "    <tr>\n",
       "      <th>0</th>\n",
       "      <td>842</td>\n",
       "      <td>0</td>\n",
       "      <td>2.2</td>\n",
       "      <td>0</td>\n",
       "      <td>1</td>\n",
       "      <td>0</td>\n",
       "      <td>7</td>\n",
       "      <td>0.6</td>\n",
       "      <td>188</td>\n",
       "      <td>2</td>\n",
       "      <td>2</td>\n",
       "      <td>20</td>\n",
       "      <td>756</td>\n",
       "      <td>2549</td>\n",
       "      <td>9</td>\n",
       "      <td>7</td>\n",
       "      <td>19</td>\n",
       "      <td>0</td>\n",
       "      <td>0</td>\n",
       "      <td>1</td>\n",
       "    </tr>\n",
       "    <tr>\n",
       "      <th>1</th>\n",
       "      <td>2000</td>\n",
       "      <td>1</td>\n",
       "      <td>2.7</td>\n",
       "      <td>1</td>\n",
       "      <td>1</td>\n",
       "      <td>1</td>\n",
       "      <td>8</td>\n",
       "      <td>0.7</td>\n",
       "      <td>160</td>\n",
       "      <td>4</td>\n",
       "      <td>2</td>\n",
       "      <td>25</td>\n",
       "      <td>768</td>\n",
       "      <td>3000</td>\n",
       "      <td>10</td>\n",
       "      <td>8</td>\n",
       "      <td>12</td>\n",
       "      <td>1</td>\n",
       "      <td>1</td>\n",
       "      <td>1</td>\n",
       "    </tr>\n",
       "    <tr>\n",
       "      <th>2</th>\n",
       "      <td>1000</td>\n",
       "      <td>0</td>\n",
       "      <td>1.4</td>\n",
       "      <td>1</td>\n",
       "      <td>0</td>\n",
       "      <td>0</td>\n",
       "      <td>4</td>\n",
       "      <td>0.4</td>\n",
       "      <td>200</td>\n",
       "      <td>2</td>\n",
       "      <td>3</td>\n",
       "      <td>14</td>\n",
       "      <td>400</td>\n",
       "      <td>2400</td>\n",
       "      <td>8</td>\n",
       "      <td>3</td>\n",
       "      <td>20</td>\n",
       "      <td>1</td>\n",
       "      <td>0</td>\n",
       "      <td>1</td>\n",
       "    </tr>\n",
       "    <tr>\n",
       "      <th>3</th>\n",
       "      <td>500</td>\n",
       "      <td>1</td>\n",
       "      <td>2.0</td>\n",
       "      <td>0</td>\n",
       "      <td>0</td>\n",
       "      <td>0</td>\n",
       "      <td>4</td>\n",
       "      <td>0.6</td>\n",
       "      <td>200</td>\n",
       "      <td>2</td>\n",
       "      <td>0</td>\n",
       "      <td>10</td>\n",
       "      <td>300</td>\n",
       "      <td>1200</td>\n",
       "      <td>9</td>\n",
       "      <td>3</td>\n",
       "      <td>14</td>\n",
       "      <td>0</td>\n",
       "      <td>0</td>\n",
       "      <td>0</td>\n",
       "    </tr>\n",
       "  </tbody>\n",
       "</table>\n",
       "</div>"
      ],
      "text/plain": [
       "   battery_power  blue  clock_speed  dual_sim  fc  four_g  int_memory  m_dep  \\\n",
       "0            842     0          2.2         0   1       0           7    0.6   \n",
       "1           2000     1          2.7         1   1       1           8    0.7   \n",
       "2           1000     0          1.4         1   0       0           4    0.4   \n",
       "3            500     1          2.0         0   0       0           4    0.6   \n",
       "\n",
       "   mobile_wt  n_cores  pc  px_height  px_width   ram  sc_h  sc_w  talk_time  \\\n",
       "0        188        2   2         20       756  2549     9     7         19   \n",
       "1        160        4   2         25       768  3000    10     8         12   \n",
       "2        200        2   3         14       400  2400     8     3         20   \n",
       "3        200        2   0         10       300  1200     9     3         14   \n",
       "\n",
       "   three_g  touch_screen  wifi  \n",
       "0        0             0     1  \n",
       "1        1             1     1  \n",
       "2        1             0     1  \n",
       "3        0             0     0  "
      ]
     },
     "execution_count": 35,
     "metadata": {},
     "output_type": "execute_result"
    }
   ],
   "source": [
    "new"
   ]
  },
  {
   "cell_type": "code",
   "execution_count": 36,
   "id": "e039d9a8",
   "metadata": {},
   "outputs": [],
   "source": [
    "import joblib as jbl # pickeling the model"
   ]
  },
  {
   "cell_type": "code",
   "execution_count": 37,
   "id": "de57a932",
   "metadata": {},
   "outputs": [
    {
     "data": {
      "text/plain": [
       "['knearest_neighbours_mobile_price.joblib']"
      ]
     },
     "execution_count": 37,
     "metadata": {},
     "output_type": "execute_result"
    }
   ],
   "source": [
    "jbl.dump(best_knn, \"knearest_neighbours_mobile_price.joblib\")"
   ]
  },
  {
   "cell_type": "code",
   "execution_count": 38,
   "id": "79112669",
   "metadata": {},
   "outputs": [
    {
     "data": {
      "text/plain": [
       "'D:\\\\Training\\\\CareerEra\\\\Batch-Masters\\\\KNN\\\\Mobile Price Range Prediction\\\\Dataset'"
      ]
     },
     "execution_count": 38,
     "metadata": {},
     "output_type": "execute_result"
    }
   ],
   "source": [
    "os.getcwd()"
   ]
  },
  {
   "cell_type": "code",
   "execution_count": null,
   "id": "590f7513",
   "metadata": {},
   "outputs": [],
   "source": []
  }
 ],
 "metadata": {
  "kernelspec": {
   "display_name": "Python 3 (ipykernel)",
   "language": "python",
   "name": "python3"
  },
  "language_info": {
   "codemirror_mode": {
    "name": "ipython",
    "version": 3
   },
   "file_extension": ".py",
   "mimetype": "text/x-python",
   "name": "python",
   "nbconvert_exporter": "python",
   "pygments_lexer": "ipython3",
   "version": "3.8.5"
  }
 },
 "nbformat": 4,
 "nbformat_minor": 5
}
